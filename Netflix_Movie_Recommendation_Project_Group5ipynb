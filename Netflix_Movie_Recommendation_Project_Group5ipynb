{
 "cells": [
  {
   "cell_type": "code",
   "execution_count": 61,
   "id": "cb25b5e8",
   "metadata": {},
   "outputs": [],
   "source": [
    "from pyspark.sql.functions import col, explode\n",
    "from pyspark import SparkContext\n",
    "from pyspark.sql import SparkSession\n",
    "import matplotlib.pyplot as plt"
   ]
  },
  {
   "cell_type": "code",
   "execution_count": 2,
   "id": "4cb84084",
   "metadata": {},
   "outputs": [],
   "source": [
    "import os\n",
    "import numpy as np\n",
    "import pandas as pd\n",
    "\n",
    "#location of data files\n",
    "dbfs_dir = 's3://netflix.movie.ratings/'\n",
    "movieTitles_filename = dbfs_dir + 'movie_titles.txt'\n",
    "trainingRatings_filename = dbfs_dir + 'TrainingRatings.txt'\n",
    "testingRatings_filename = dbfs_dir + 'TestingRatings.txt'"
   ]
  },
  {
   "cell_type": "code",
   "execution_count": 3,
   "id": "28a8b9f9",
   "metadata": {},
   "outputs": [],
   "source": [
    "#define the schemas\n",
    "\n",
    "from pyspark.sql.types import *\n",
    "\n",
    "movieTitles_df_schema = StructType(\n",
    "  [StructField('MovieID', IntegerType()),\n",
    "   StructField('YearOfRelease', DateType()),\n",
    "   StructField('Title', StringType())]\n",
    ")\n",
    "\n",
    "trainingRatings_df_schema = StructType(\n",
    "  [StructField('MovieID', IntegerType()),\n",
    "   StructField('UserID', IntegerType()),\n",
    "   StructField('Rating', DoubleType())]\n",
    ")\n",
    "\n",
    "testingRatings_df_schema = StructType(\n",
    "  [StructField('MovieID', IntegerType()),\n",
    "   StructField('UserID', IntegerType()),\n",
    "   StructField('Rating', DoubleType())]\n",
    ")"
   ]
  },
  {
   "cell_type": "code",
   "execution_count": 78,
   "id": "1a4711e4",
   "metadata": {},
   "outputs": [
    {
     "name": "stderr",
     "output_type": "stream",
     "text": [
      "22/05/03 10:41:36 WARN CacheManager: Asked to cache already cached data.\n",
      "22/05/03 10:41:36 WARN CacheManager: Asked to cache already cached data.\n",
      "22/05/03 10:41:36 WARN CacheManager: Asked to cache already cached data.\n",
      "22/05/03 10:41:36 WARN CacheManager: Asked to cache already cached data.\n"
     ]
    },
    {
     "name": "stdout",
     "output_type": "stream",
     "text": [
      "There are 17769 movies and 3255351 Training_ratings and 100477 Testing_ratings in the datasets\n",
      "Movies list\n",
      "+-------+----------------------------+\n",
      "|MovieID|Title                       |\n",
      "+-------+----------------------------+\n",
      "|2      |Isle of Man TT 2004 Review  |\n",
      "|3      |Character                   |\n",
      "|4      |Paula Abdul's Get Up & Dance|\n",
      "+-------+----------------------------+\n",
      "only showing top 3 rows\n",
      "\n",
      "Training_Ratings list\n",
      "+-------+-------+------+\n",
      "|MovieID|UserID |Rating|\n",
      "+-------+-------+------+\n",
      "|8      |1395430|2.0   |\n",
      "|8      |1205593|4.0   |\n",
      "|8      |1488844|4.0   |\n",
      "+-------+-------+------+\n",
      "only showing top 3 rows\n",
      "\n",
      "Testing_Ratings list\n",
      "+-------+-------+------+\n",
      "|MovieID|UserID |Rating|\n",
      "+-------+-------+------+\n",
      "|8      |2149668|3.0   |\n",
      "|8      |1089184|3.0   |\n",
      "|8      |2465894|3.0   |\n",
      "+-------+-------+------+\n",
      "only showing top 3 rows\n",
      "\n"
     ]
    }
   ],
   "source": [
    "from pyspark.sql.functions import regexp_extract\n",
    "from pyspark.sql.types import *\n",
    "\n",
    "raw_movieTitles_df = sqlContext.read.format('csv').options(header=True, inferSchema=False).schema(movieTitles_df_schema).load(movieTitles_filename)\n",
    "movieTitles_df = raw_movieTitles_df.drop('YearOfRelease')\n",
    "\n",
    "trainingRatings_df = sqlContext.read.format('csv').options(header=True, inferSchema=False).schema(trainingRatings_df_schema).load(trainingRatings_filename)\n",
    "\n",
    "testingRatings_df = sqlContext.read.format('csv').options(header=True, inferSchema=False).schema(testingRatings_df_schema).load(testingRatings_filename)\n",
    "\n",
    "raw_movieTitles_df.cache()\n",
    "movieTitles_df.cache()\n",
    "trainingRatings_df.cache()\n",
    "testingRatings_df.cache()\n",
    "\n",
    "movies_count = movieTitles_df.count()\n",
    "trainingRatings_count = trainingRatings_df.count()\n",
    "testingRatings_count = testingRatings_df.count()\n",
    "\n",
    "assert raw_movieTitles_df.is_cached\n",
    "assert movieTitles_df.is_cached\n",
    "assert trainingRatings_df.is_cached\n",
    "assert testingRatings_df.is_cached\n",
    "\n",
    "print ('There are %s movies and %s Training_ratings and %s Testing_ratings in the datasets' % (movies_count, trainingRatings_count, testingRatings_count))\n",
    "\n",
    "print ('Movies list')\n",
    "movieTitles_df.show(3, truncate=False)\n",
    "\n",
    "print ('Training_Ratings list')\n",
    "trainingRatings_df.show(3, truncate=False)\n",
    "\n",
    "print ('Testing_Ratings list')\n",
    "testingRatings_df.show(3, truncate=False)"
   ]
  },
  {
   "cell_type": "code",
   "execution_count": 69,
   "id": "df805729",
   "metadata": {},
   "outputs": [],
   "source": [
    "train_all_df = trainingRatings_df.join(movieTitles_df, on='MovieID')"
   ]
  },
  {
   "cell_type": "code",
   "execution_count": 58,
   "id": "c31333ae",
   "metadata": {},
   "outputs": [
    {
     "name": "stdout",
     "output_type": "stream",
     "text": [
      "There are 17769 distinct_movies in Movie Titles dataset: \n",
      "There are 1821 distinct_movies and 28978 distinct_Users and 5 distinct_Ratings in the Training dataset\n",
      "There are 1701 distinct_movies and 27555 distinct_Users and 5 distinct_Ratings in the Testing dataset\n"
     ]
    }
   ],
   "source": [
    "# getting the  unique count\n",
    "unique_movies_count = movieTitles_df.select(\"MovieID\").distinct().count()\n",
    "print(\"There are %s distinct_movies in Movie Titles dataset: \"% (unique_movies_count))\n",
    "\n",
    "train_unique_movies_count = trainingRatings_df.select(\"MovieID\").distinct().count()\n",
    "train_unique_user_count = trainingRatings_df.select(\"UserID\").distinct().count()\n",
    "train_unique_rating_count = trainingRatings_df.select(\"Rating\").distinct().count()\n",
    "print ('There are %s distinct_movies and %s distinct_Users and %s distinct_Ratings in the Training dataset' % (train_unique_movies_count, train_unique_user_count, train_unique_rating_count))\n",
    "\n",
    "test_unique_movies_count = testingRatings_df.select(\"MovieID\").distinct().count()\n",
    "test_unique_user_count = testingRatings_df.select(\"UserID\").distinct().count()\n",
    "test_unique_rating_count = testingRatings_df.select(\"Rating\").distinct().count()\n",
    "print ('There are %s distinct_movies and %s distinct_Users and %s distinct_Ratings in the Testing dataset' % (test_unique_movies_count, test_unique_user_count, test_unique_rating_count))"
   ]
  },
  {
   "cell_type": "markdown",
   "id": "49e510fb",
   "metadata": {},
   "source": [
    "# Data Analysis"
   ]
  },
  {
   "cell_type": "code",
   "execution_count": 59,
   "id": "12527cb7",
   "metadata": {},
   "outputs": [],
   "source": [
    "# Converting to pandas DF\n",
    "pandas_train_df = trainingRatings_df.toPandas()\n",
    "pandas_test_df = testingRatings_df.toPandas()\n"
   ]
  },
  {
   "cell_type": "code",
   "execution_count": 100,
   "id": "3d781a23",
   "metadata": {},
   "outputs": [],
   "source": [
    "pandas_movies_df = movieTitles_df.toPandas()"
   ]
  },
  {
   "cell_type": "code",
   "execution_count": 63,
   "id": "bb02b758",
   "metadata": {},
   "outputs": [
    {
     "data": {
      "image/png": "[encoded data removed]",
      "text/plain": [
       "<Figure size 1080x360 with 1 Axes>"
      ]
     },
     "metadata": {
      "needs_background": "light"
     },
     "output_type": "display_data"
    }
   ],
   "source": [
    "(pd.DataFrame(pandas_train_df['Rating']\n",
    "              .value_counts(sort=False))\n",
    "              .sort_index()\n",
    "              .plot(kind='bar', color='#4472C4', figsize=(15,5), alpha=0.6))\n",
    "plt.title('Rating Distribution of Training data\\n')\n",
    "plt.xlabel('Rating')\n",
    "plt.ylabel('Count')\n",
    "plt.show()"
   ]
  },
  {
   "cell_type": "code",
   "execution_count": 64,
   "id": "792b8ef3",
   "metadata": {},
   "outputs": [
    {
     "data": {
      "image/png": "[encoded data removed]",
      "text/plain": [
       "<Figure size 1080x360 with 1 Axes>"
      ]
     },
     "metadata": {
      "needs_background": "light"
     },
     "output_type": "display_data"
    }
   ],
   "source": [
    "(pd.DataFrame(pandas_test_df['Rating']\n",
    "              .value_counts(sort=False))\n",
    "              .sort_index()\n",
    "              .plot(kind='bar', color='#4472C4', figsize=(15,5), alpha=0.6))\n",
    "plt.title('Rating Distribution of Test data\\n')\n",
    "plt.xlabel('Rating')\n",
    "plt.ylabel('Count')\n",
    "plt.show()"
   ]
  },
  {
   "cell_type": "code",
   "execution_count": 107,
   "id": "e67a6e94",
   "metadata": {},
   "outputs": [
    {
     "data": {
      "image/png": "[encoded data removed]",
      "text/plain": [
       "<Figure size 1080x360 with 1 Axes>"
      ]
     },
     "metadata": {
      "needs_background": "light"
     },
     "output_type": "display_data"
    }
   ],
   "source": [
    "(pd.DataFrame(pandas_train_df.groupby('UserID')\n",
    "              .count()['Rating'])\n",
    "              .plot(kind='hist', color='#4472C4', figsize=(15,5), alpha=0.6))\n",
    "plt.title('Number of ratings by UserID')\n",
    "plt.xlabel('Rating')\n",
    "plt.ylabel('Count')\n",
    "plt.show()"
   ]
  },
  {
   "cell_type": "code",
   "execution_count": 108,
   "id": "9566b52f",
   "metadata": {},
   "outputs": [
    {
     "data": {
      "image/png": "[encoded data removed]",
      "text/plain": [
       "<Figure size 1080x360 with 1 Axes>"
      ]
     },
     "metadata": {
      "needs_background": "light"
     },
     "output_type": "display_data"
    }
   ],
   "source": [
    "# Reviews per movie plot\n",
    "(pd.DataFrame(pandas_train_df.groupby('MovieID')\n",
    "              .count()['Rating'])\n",
    "              .plot(kind='hist', color='#4472C4', figsize=(15,5), alpha=0.6))\n",
    "plt.title('Number of ratings by MoviesID')\n",
    "plt.xlabel('Rating')\n",
    "plt.ylabel('Count')\n",
    "plt.show()"
   ]
  },
  {
   "cell_type": "code",
   "execution_count": 65,
   "id": "0a50fc25",
   "metadata": {},
   "outputs": [
    {
     "data": {
      "text/html": [
       "<div>\n",
       "<style scoped>\n",
       "    .dataframe tbody tr th:only-of-type {\n",
       "        vertical-align: middle;\n",
       "    }\n",
       "\n",
       "    .dataframe tbody tr th {\n",
       "        vertical-align: top;\n",
       "    }\n",
       "\n",
       "    .dataframe thead th {\n",
       "        text-align: right;\n",
       "    }\n",
       "</style>\n",
       "<table border=\"1\" class=\"dataframe\">\n",
       "  <thead>\n",
       "    <tr style=\"text-align: right;\">\n",
       "      <th></th>\n",
       "      <th>Rating</th>\n",
       "    </tr>\n",
       "  </thead>\n",
       "  <tbody>\n",
       "    <tr>\n",
       "      <th>count</th>\n",
       "      <td>3.255351e+06</td>\n",
       "    </tr>\n",
       "    <tr>\n",
       "      <th>mean</th>\n",
       "      <td>3.481188e+00</td>\n",
       "    </tr>\n",
       "    <tr>\n",
       "      <th>std</th>\n",
       "      <td>1.082873e+00</td>\n",
       "    </tr>\n",
       "    <tr>\n",
       "      <th>min</th>\n",
       "      <td>1.000000e+00</td>\n",
       "    </tr>\n",
       "    <tr>\n",
       "      <th>25%</th>\n",
       "      <td>3.000000e+00</td>\n",
       "    </tr>\n",
       "    <tr>\n",
       "      <th>50%</th>\n",
       "      <td>4.000000e+00</td>\n",
       "    </tr>\n",
       "    <tr>\n",
       "      <th>75%</th>\n",
       "      <td>4.000000e+00</td>\n",
       "    </tr>\n",
       "    <tr>\n",
       "      <th>max</th>\n",
       "      <td>5.000000e+00</td>\n",
       "    </tr>\n",
       "  </tbody>\n",
       "</table>\n",
       "</div>"
      ],
      "text/plain": [
       "             Rating\n",
       "count  3.255351e+06\n",
       "mean   3.481188e+00\n",
       "std    1.082873e+00\n",
       "min    1.000000e+00\n",
       "25%    3.000000e+00\n",
       "50%    4.000000e+00\n",
       "75%    4.000000e+00\n",
       "max    5.000000e+00"
      ]
     },
     "execution_count": 65,
     "metadata": {},
     "output_type": "execute_result"
    }
   ],
   "source": [
    "# Rating Distribution\n",
    "pandas_train_df['Rating'].describe().to_frame()"
   ]
  },
  {
   "cell_type": "code",
   "execution_count": 66,
   "id": "a5d3769d",
   "metadata": {},
   "outputs": [
    {
     "data": {
      "text/html": [
       "<div>\n",
       "<style scoped>\n",
       "    .dataframe tbody tr th:only-of-type {\n",
       "        vertical-align: middle;\n",
       "    }\n",
       "\n",
       "    .dataframe tbody tr th {\n",
       "        vertical-align: top;\n",
       "    }\n",
       "\n",
       "    .dataframe thead th {\n",
       "        text-align: right;\n",
       "    }\n",
       "</style>\n",
       "<table border=\"1\" class=\"dataframe\">\n",
       "  <thead>\n",
       "    <tr style=\"text-align: right;\">\n",
       "      <th></th>\n",
       "      <th>Rating</th>\n",
       "    </tr>\n",
       "  </thead>\n",
       "  <tbody>\n",
       "    <tr>\n",
       "      <th>count</th>\n",
       "      <td>100477.000000</td>\n",
       "    </tr>\n",
       "    <tr>\n",
       "      <th>mean</th>\n",
       "      <td>3.479483</td>\n",
       "    </tr>\n",
       "    <tr>\n",
       "      <th>std</th>\n",
       "      <td>1.085257</td>\n",
       "    </tr>\n",
       "    <tr>\n",
       "      <th>min</th>\n",
       "      <td>1.000000</td>\n",
       "    </tr>\n",
       "    <tr>\n",
       "      <th>25%</th>\n",
       "      <td>3.000000</td>\n",
       "    </tr>\n",
       "    <tr>\n",
       "      <th>50%</th>\n",
       "      <td>4.000000</td>\n",
       "    </tr>\n",
       "    <tr>\n",
       "      <th>75%</th>\n",
       "      <td>4.000000</td>\n",
       "    </tr>\n",
       "    <tr>\n",
       "      <th>max</th>\n",
       "      <td>5.000000</td>\n",
       "    </tr>\n",
       "  </tbody>\n",
       "</table>\n",
       "</div>"
      ],
      "text/plain": [
       "              Rating\n",
       "count  100477.000000\n",
       "mean        3.479483\n",
       "std         1.085257\n",
       "min         1.000000\n",
       "25%         3.000000\n",
       "50%         4.000000\n",
       "75%         4.000000\n",
       "max         5.000000"
      ]
     },
     "execution_count": 66,
     "metadata": {},
     "output_type": "execute_result"
    }
   ],
   "source": [
    "# Rating Distribution\n",
    "pandas_test_df['Rating'].describe().to_frame()"
   ]
  },
  {
   "cell_type": "code",
   "execution_count": 67,
   "id": "263e5af1",
   "metadata": {},
   "outputs": [
    {
     "data": {
      "text/html": [
       "<div>\n",
       "<style scoped>\n",
       "    .dataframe tbody tr th:only-of-type {\n",
       "        vertical-align: middle;\n",
       "    }\n",
       "\n",
       "    .dataframe tbody tr th {\n",
       "        vertical-align: top;\n",
       "    }\n",
       "\n",
       "    .dataframe thead th {\n",
       "        text-align: right;\n",
       "    }\n",
       "</style>\n",
       "<table border=\"1\" class=\"dataframe\">\n",
       "  <thead>\n",
       "    <tr style=\"text-align: right;\">\n",
       "      <th></th>\n",
       "      <th>MovieID</th>\n",
       "      <th>UserIDCount</th>\n",
       "    </tr>\n",
       "  </thead>\n",
       "  <tbody>\n",
       "    <tr>\n",
       "      <th>0</th>\n",
       "      <td>6971</td>\n",
       "      <td>25468</td>\n",
       "    </tr>\n",
       "    <tr>\n",
       "      <th>1</th>\n",
       "      <td>6287</td>\n",
       "      <td>24393</td>\n",
       "    </tr>\n",
       "    <tr>\n",
       "      <th>2</th>\n",
       "      <td>4640</td>\n",
       "      <td>23525</td>\n",
       "    </tr>\n",
       "    <tr>\n",
       "      <th>3</th>\n",
       "      <td>9728</td>\n",
       "      <td>23184</td>\n",
       "    </tr>\n",
       "    <tr>\n",
       "      <th>4</th>\n",
       "      <td>8596</td>\n",
       "      <td>23005</td>\n",
       "    </tr>\n",
       "  </tbody>\n",
       "</table>\n",
       "</div>"
      ],
      "text/plain": [
       "   MovieID  UserIDCount\n",
       "0     6971        25468\n",
       "1     6287        24393\n",
       "2     4640        23525\n",
       "3     9728        23184\n",
       "4     8596        23005"
      ]
     },
     "execution_count": 67,
     "metadata": {},
     "output_type": "execute_result"
    }
   ],
   "source": [
    "pandas_train_df.groupby('MovieID')['UserID'].count().sort_values(ascending=False).reset_index(name='UserIDCount').head()"
   ]
  },
  {
   "cell_type": "code",
   "execution_count": 68,
   "id": "c0e7e145",
   "metadata": {},
   "outputs": [
    {
     "data": {
      "text/html": [
       "<div>\n",
       "<style scoped>\n",
       "    .dataframe tbody tr th:only-of-type {\n",
       "        vertical-align: middle;\n",
       "    }\n",
       "\n",
       "    .dataframe tbody tr th {\n",
       "        vertical-align: top;\n",
       "    }\n",
       "\n",
       "    .dataframe thead th {\n",
       "        text-align: right;\n",
       "    }\n",
       "</style>\n",
       "<table border=\"1\" class=\"dataframe\">\n",
       "  <thead>\n",
       "    <tr style=\"text-align: right;\">\n",
       "      <th></th>\n",
       "      <th>MovieID</th>\n",
       "      <th>UserIDCount</th>\n",
       "    </tr>\n",
       "  </thead>\n",
       "  <tbody>\n",
       "    <tr>\n",
       "      <th>0</th>\n",
       "      <td>6971</td>\n",
       "      <td>811</td>\n",
       "    </tr>\n",
       "    <tr>\n",
       "      <th>1</th>\n",
       "      <td>4640</td>\n",
       "      <td>756</td>\n",
       "    </tr>\n",
       "    <tr>\n",
       "      <th>2</th>\n",
       "      <td>6287</td>\n",
       "      <td>737</td>\n",
       "    </tr>\n",
       "    <tr>\n",
       "      <th>3</th>\n",
       "      <td>9728</td>\n",
       "      <td>706</td>\n",
       "    </tr>\n",
       "    <tr>\n",
       "      <th>4</th>\n",
       "      <td>8915</td>\n",
       "      <td>695</td>\n",
       "    </tr>\n",
       "  </tbody>\n",
       "</table>\n",
       "</div>"
      ],
      "text/plain": [
       "   MovieID  UserIDCount\n",
       "0     6971          811\n",
       "1     4640          756\n",
       "2     6287          737\n",
       "3     9728          706\n",
       "4     8915          695"
      ]
     },
     "execution_count": 68,
     "metadata": {},
     "output_type": "execute_result"
    }
   ],
   "source": [
    "pandas_test_df.groupby('MovieID')['UserID'].count().sort_values(ascending=False).reset_index(name='UserIDCount').head()"
   ]
  },
  {
   "cell_type": "code",
   "execution_count": 84,
   "id": "497262d2",
   "metadata": {},
   "outputs": [
    {
     "data": {
      "text/plain": [
       "DataFrame[MovieID: int, Title: string]"
      ]
     },
     "execution_count": 84,
     "metadata": {},
     "output_type": "execute_result"
    }
   ],
   "source": [
    "# Obtaining mean rating for every movie\n",
    "sorted_movies = pandas_train_df.groupby('MovieID').mean()\n",
    "sorted_movies.sort_values(['Rating'], ascending=False, inplace = True)\n",
    "top10movies = list(sorted_movies.head(10).index)\n",
    "bottom10movies = list(sorted_movies.tail(10).index)"
   ]
  },
  {
   "cell_type": "code",
   "execution_count": 103,
   "id": "cdcce0a5",
   "metadata": {},
   "outputs": [
    {
     "data": {
      "text/html": [
       "<div>\n",
       "<style scoped>\n",
       "    .dataframe tbody tr th:only-of-type {\n",
       "        vertical-align: middle;\n",
       "    }\n",
       "\n",
       "    .dataframe tbody tr th {\n",
       "        vertical-align: top;\n",
       "    }\n",
       "\n",
       "    .dataframe thead th {\n",
       "        text-align: right;\n",
       "    }\n",
       "</style>\n",
       "<table border=\"1\" class=\"dataframe\">\n",
       "  <thead>\n",
       "    <tr style=\"text-align: right;\">\n",
       "      <th></th>\n",
       "      <th>MovieID</th>\n",
       "      <th>Title</th>\n",
       "    </tr>\n",
       "  </thead>\n",
       "  <tbody>\n",
       "    <tr>\n",
       "      <th>1254</th>\n",
       "      <td>1256</td>\n",
       "      <td>The Best of Friends: Vol. 4</td>\n",
       "    </tr>\n",
       "    <tr>\n",
       "      <th>3031</th>\n",
       "      <td>3033</td>\n",
       "      <td>Ghost in the Shell: Stand Alone Complex: 2nd Gig</td>\n",
       "    </tr>\n",
       "    <tr>\n",
       "      <th>3288</th>\n",
       "      <td>3290</td>\n",
       "      <td>The Godfather</td>\n",
       "    </tr>\n",
       "    <tr>\n",
       "      <th>4236</th>\n",
       "      <td>4238</td>\n",
       "      <td>Inu-Yasha</td>\n",
       "    </tr>\n",
       "    <tr>\n",
       "      <th>5758</th>\n",
       "      <td>5760</td>\n",
       "      <td>The Sopranos: Season 3</td>\n",
       "    </tr>\n",
       "    <tr>\n",
       "      <th>7567</th>\n",
       "      <td>7569</td>\n",
       "      <td>Dead Like Me: Season 2</td>\n",
       "    </tr>\n",
       "    <tr>\n",
       "      <th>12291</th>\n",
       "      <td>12293</td>\n",
       "      <td>The Godfather</td>\n",
       "    </tr>\n",
       "    <tr>\n",
       "      <th>14281</th>\n",
       "      <td>14283</td>\n",
       "      <td>The Best of Friends: Vol. 3</td>\n",
       "    </tr>\n",
       "    <tr>\n",
       "      <th>14646</th>\n",
       "      <td>14648</td>\n",
       "      <td>Finding Nemo (Full-screen)</td>\n",
       "    </tr>\n",
       "    <tr>\n",
       "      <th>16145</th>\n",
       "      <td>16147</td>\n",
       "      <td>The Sopranos: Season 1</td>\n",
       "    </tr>\n",
       "  </tbody>\n",
       "</table>\n",
       "</div>"
      ],
      "text/plain": [
       "       MovieID                                             Title\n",
       "1254      1256                       The Best of Friends: Vol. 4\n",
       "3031      3033  Ghost in the Shell: Stand Alone Complex: 2nd Gig\n",
       "3288      3290                                     The Godfather\n",
       "4236      4238                                         Inu-Yasha\n",
       "5758      5760                            The Sopranos: Season 3\n",
       "7567      7569                            Dead Like Me: Season 2\n",
       "12291    12293                                     The Godfather\n",
       "14281    14283                       The Best of Friends: Vol. 3\n",
       "14646    14648                        Finding Nemo (Full-screen)\n",
       "16145    16147                            The Sopranos: Season 1"
      ]
     },
     "execution_count": 103,
     "metadata": {},
     "output_type": "execute_result"
    }
   ],
   "source": [
    "# Top rated movies\n",
    "pandas_movies_df[pandas_movies_df['MovieID'].isin(top10movies)]"
   ]
  },
  {
   "cell_type": "code",
   "execution_count": 104,
   "id": "40b39bb3",
   "metadata": {},
   "outputs": [
    {
     "data": {
      "text/html": [
       "<div>\n",
       "<style scoped>\n",
       "    .dataframe tbody tr th:only-of-type {\n",
       "        vertical-align: middle;\n",
       "    }\n",
       "\n",
       "    .dataframe tbody tr th {\n",
       "        vertical-align: top;\n",
       "    }\n",
       "\n",
       "    .dataframe thead th {\n",
       "        text-align: right;\n",
       "    }\n",
       "</style>\n",
       "<table border=\"1\" class=\"dataframe\">\n",
       "  <thead>\n",
       "    <tr style=\"text-align: right;\">\n",
       "      <th></th>\n",
       "      <th>MovieID</th>\n",
       "      <th>Title</th>\n",
       "    </tr>\n",
       "  </thead>\n",
       "  <tbody>\n",
       "    <tr>\n",
       "      <th>1922</th>\n",
       "      <td>1924</td>\n",
       "      <td>Terror Toons</td>\n",
       "    </tr>\n",
       "    <tr>\n",
       "      <th>6361</th>\n",
       "      <td>6363</td>\n",
       "      <td>Hot Wax Zombies on Wheels</td>\n",
       "    </tr>\n",
       "    <tr>\n",
       "      <th>7087</th>\n",
       "      <td>7089</td>\n",
       "      <td>Blood Sisters of Lesbian Sin</td>\n",
       "    </tr>\n",
       "    <tr>\n",
       "      <th>9694</th>\n",
       "      <td>9696</td>\n",
       "      <td>Fart: The Movie</td>\n",
       "    </tr>\n",
       "    <tr>\n",
       "      <th>11684</th>\n",
       "      <td>11686</td>\n",
       "      <td>Da Hip Hop Witch</td>\n",
       "    </tr>\n",
       "    <tr>\n",
       "      <th>12885</th>\n",
       "      <td>12887</td>\n",
       "      <td>Legend of the Chupacabra</td>\n",
       "    </tr>\n",
       "    <tr>\n",
       "      <th>14738</th>\n",
       "      <td>14740</td>\n",
       "      <td>Seamless</td>\n",
       "    </tr>\n",
       "    <tr>\n",
       "      <th>14773</th>\n",
       "      <td>14775</td>\n",
       "      <td>Vicious</td>\n",
       "    </tr>\n",
       "    <tr>\n",
       "      <th>15081</th>\n",
       "      <td>15083</td>\n",
       "      <td>Mulva: Zombie Ass Kicker! / Filthy McNasty (Do...</td>\n",
       "    </tr>\n",
       "    <tr>\n",
       "      <th>15685</th>\n",
       "      <td>15687</td>\n",
       "      <td>Vampiyaz</td>\n",
       "    </tr>\n",
       "  </tbody>\n",
       "</table>\n",
       "</div>"
      ],
      "text/plain": [
       "       MovieID                                              Title\n",
       "1922      1924                                       Terror Toons\n",
       "6361      6363                          Hot Wax Zombies on Wheels\n",
       "7087      7089                       Blood Sisters of Lesbian Sin\n",
       "9694      9696                                    Fart: The Movie\n",
       "11684    11686                                   Da Hip Hop Witch\n",
       "12885    12887                           Legend of the Chupacabra\n",
       "14738    14740                                           Seamless\n",
       "14773    14775                                            Vicious\n",
       "15081    15083  Mulva: Zombie Ass Kicker! / Filthy McNasty (Do...\n",
       "15685    15687                                           Vampiyaz"
      ]
     },
     "execution_count": 104,
     "metadata": {},
     "output_type": "execute_result"
    }
   ],
   "source": [
    "# Bottom rated movies\n",
    "pandas_movies_df[pandas_movies_df['MovieID'].isin(bottom10movies)]"
   ]
  },
  {
   "cell_type": "code",
   "execution_count": 86,
   "id": "83592ce2",
   "metadata": {},
   "outputs": [
    {
     "data": {
      "text/html": [
       "<div>\n",
       "<style scoped>\n",
       "    .dataframe tbody tr th:only-of-type {\n",
       "        vertical-align: middle;\n",
       "    }\n",
       "\n",
       "    .dataframe tbody tr th {\n",
       "        vertical-align: top;\n",
       "    }\n",
       "\n",
       "    .dataframe thead th {\n",
       "        text-align: right;\n",
       "    }\n",
       "</style>\n",
       "<table border=\"1\" class=\"dataframe\">\n",
       "  <thead>\n",
       "    <tr style=\"text-align: right;\">\n",
       "      <th></th>\n",
       "      <th>UserID</th>\n",
       "      <th>MovieID</th>\n",
       "      <th>Rating</th>\n",
       "    </tr>\n",
       "  </thead>\n",
       "  <tbody>\n",
       "    <tr>\n",
       "      <th>0</th>\n",
       "      <td>1395430</td>\n",
       "      <td>8</td>\n",
       "      <td>2.0</td>\n",
       "    </tr>\n",
       "    <tr>\n",
       "      <th>1</th>\n",
       "      <td>1205593</td>\n",
       "      <td>8</td>\n",
       "      <td>4.0</td>\n",
       "    </tr>\n",
       "    <tr>\n",
       "      <th>2</th>\n",
       "      <td>1488844</td>\n",
       "      <td>8</td>\n",
       "      <td>4.0</td>\n",
       "    </tr>\n",
       "    <tr>\n",
       "      <th>3</th>\n",
       "      <td>1447354</td>\n",
       "      <td>8</td>\n",
       "      <td>1.0</td>\n",
       "    </tr>\n",
       "    <tr>\n",
       "      <th>4</th>\n",
       "      <td>306466</td>\n",
       "      <td>8</td>\n",
       "      <td>4.0</td>\n",
       "    </tr>\n",
       "  </tbody>\n",
       "</table>\n",
       "</div>"
      ],
      "text/plain": [
       "    UserID  MovieID  Rating\n",
       "0  1395430        8     2.0\n",
       "1  1205593        8     4.0\n",
       "2  1488844        8     4.0\n",
       "3  1447354        8     1.0\n",
       "4   306466        8     4.0"
      ]
     },
     "execution_count": 86,
     "metadata": {},
     "output_type": "execute_result"
    }
   ],
   "source": [
    "# Getting only significant columns for the UIM matrix\n",
    "uim = pandas_train_df[['UserID', 'MovieID', 'Rating']].copy()\n",
    "uim.head()"
   ]
  },
  {
   "cell_type": "code",
   "execution_count": 87,
   "id": "e690145a",
   "metadata": {},
   "outputs": [
    {
     "data": {
      "text/html": [
       "<div>\n",
       "<style scoped>\n",
       "    .dataframe tbody tr th:only-of-type {\n",
       "        vertical-align: middle;\n",
       "    }\n",
       "\n",
       "    .dataframe tbody tr th {\n",
       "        vertical-align: top;\n",
       "    }\n",
       "\n",
       "    .dataframe thead th {\n",
       "        text-align: right;\n",
       "    }\n",
       "</style>\n",
       "<table border=\"1\" class=\"dataframe\">\n",
       "  <thead>\n",
       "    <tr style=\"text-align: right;\">\n",
       "      <th>MovieID</th>\n",
       "      <th>8</th>\n",
       "      <th>28</th>\n",
       "      <th>43</th>\n",
       "      <th>48</th>\n",
       "      <th>61</th>\n",
       "      <th>64</th>\n",
       "      <th>66</th>\n",
       "      <th>92</th>\n",
       "      <th>96</th>\n",
       "      <th>111</th>\n",
       "      <th>...</th>\n",
       "      <th>17654</th>\n",
       "      <th>17660</th>\n",
       "      <th>17689</th>\n",
       "      <th>17693</th>\n",
       "      <th>17706</th>\n",
       "      <th>17725</th>\n",
       "      <th>17728</th>\n",
       "      <th>17734</th>\n",
       "      <th>17741</th>\n",
       "      <th>17742</th>\n",
       "    </tr>\n",
       "    <tr>\n",
       "      <th>UserID</th>\n",
       "      <th></th>\n",
       "      <th></th>\n",
       "      <th></th>\n",
       "      <th></th>\n",
       "      <th></th>\n",
       "      <th></th>\n",
       "      <th></th>\n",
       "      <th></th>\n",
       "      <th></th>\n",
       "      <th></th>\n",
       "      <th></th>\n",
       "      <th></th>\n",
       "      <th></th>\n",
       "      <th></th>\n",
       "      <th></th>\n",
       "      <th></th>\n",
       "      <th></th>\n",
       "      <th></th>\n",
       "      <th></th>\n",
       "      <th></th>\n",
       "      <th></th>\n",
       "    </tr>\n",
       "  </thead>\n",
       "  <tbody>\n",
       "    <tr>\n",
       "      <th>7</th>\n",
       "      <td>5.0</td>\n",
       "      <td>4.0</td>\n",
       "      <td>NaN</td>\n",
       "      <td>NaN</td>\n",
       "      <td>NaN</td>\n",
       "      <td>NaN</td>\n",
       "      <td>NaN</td>\n",
       "      <td>NaN</td>\n",
       "      <td>NaN</td>\n",
       "      <td>NaN</td>\n",
       "      <td>...</td>\n",
       "      <td>NaN</td>\n",
       "      <td>NaN</td>\n",
       "      <td>NaN</td>\n",
       "      <td>NaN</td>\n",
       "      <td>NaN</td>\n",
       "      <td>NaN</td>\n",
       "      <td>NaN</td>\n",
       "      <td>NaN</td>\n",
       "      <td>NaN</td>\n",
       "      <td>NaN</td>\n",
       "    </tr>\n",
       "    <tr>\n",
       "      <th>79</th>\n",
       "      <td>NaN</td>\n",
       "      <td>NaN</td>\n",
       "      <td>NaN</td>\n",
       "      <td>NaN</td>\n",
       "      <td>NaN</td>\n",
       "      <td>NaN</td>\n",
       "      <td>NaN</td>\n",
       "      <td>NaN</td>\n",
       "      <td>NaN</td>\n",
       "      <td>NaN</td>\n",
       "      <td>...</td>\n",
       "      <td>NaN</td>\n",
       "      <td>NaN</td>\n",
       "      <td>NaN</td>\n",
       "      <td>NaN</td>\n",
       "      <td>NaN</td>\n",
       "      <td>NaN</td>\n",
       "      <td>NaN</td>\n",
       "      <td>NaN</td>\n",
       "      <td>NaN</td>\n",
       "      <td>NaN</td>\n",
       "    </tr>\n",
       "    <tr>\n",
       "      <th>199</th>\n",
       "      <td>NaN</td>\n",
       "      <td>NaN</td>\n",
       "      <td>NaN</td>\n",
       "      <td>NaN</td>\n",
       "      <td>NaN</td>\n",
       "      <td>NaN</td>\n",
       "      <td>NaN</td>\n",
       "      <td>NaN</td>\n",
       "      <td>NaN</td>\n",
       "      <td>4.0</td>\n",
       "      <td>...</td>\n",
       "      <td>NaN</td>\n",
       "      <td>NaN</td>\n",
       "      <td>NaN</td>\n",
       "      <td>NaN</td>\n",
       "      <td>NaN</td>\n",
       "      <td>NaN</td>\n",
       "      <td>NaN</td>\n",
       "      <td>NaN</td>\n",
       "      <td>NaN</td>\n",
       "      <td>NaN</td>\n",
       "    </tr>\n",
       "    <tr>\n",
       "      <th>481</th>\n",
       "      <td>NaN</td>\n",
       "      <td>NaN</td>\n",
       "      <td>NaN</td>\n",
       "      <td>NaN</td>\n",
       "      <td>NaN</td>\n",
       "      <td>NaN</td>\n",
       "      <td>NaN</td>\n",
       "      <td>NaN</td>\n",
       "      <td>NaN</td>\n",
       "      <td>5.0</td>\n",
       "      <td>...</td>\n",
       "      <td>NaN</td>\n",
       "      <td>NaN</td>\n",
       "      <td>NaN</td>\n",
       "      <td>NaN</td>\n",
       "      <td>NaN</td>\n",
       "      <td>NaN</td>\n",
       "      <td>NaN</td>\n",
       "      <td>NaN</td>\n",
       "      <td>NaN</td>\n",
       "      <td>NaN</td>\n",
       "    </tr>\n",
       "    <tr>\n",
       "      <th>769</th>\n",
       "      <td>NaN</td>\n",
       "      <td>NaN</td>\n",
       "      <td>NaN</td>\n",
       "      <td>NaN</td>\n",
       "      <td>NaN</td>\n",
       "      <td>NaN</td>\n",
       "      <td>NaN</td>\n",
       "      <td>NaN</td>\n",
       "      <td>NaN</td>\n",
       "      <td>NaN</td>\n",
       "      <td>...</td>\n",
       "      <td>NaN</td>\n",
       "      <td>NaN</td>\n",
       "      <td>NaN</td>\n",
       "      <td>NaN</td>\n",
       "      <td>NaN</td>\n",
       "      <td>NaN</td>\n",
       "      <td>NaN</td>\n",
       "      <td>NaN</td>\n",
       "      <td>NaN</td>\n",
       "      <td>NaN</td>\n",
       "    </tr>\n",
       "  </tbody>\n",
       "</table>\n",
       "<p>5 rows × 1821 columns</p>\n",
       "</div>"
      ],
      "text/plain": [
       "MovieID  8      28     43     48     61     64     66     92     96     111    \\\n",
       "UserID                                                                          \n",
       "7          5.0    4.0    NaN    NaN    NaN    NaN    NaN    NaN    NaN    NaN   \n",
       "79         NaN    NaN    NaN    NaN    NaN    NaN    NaN    NaN    NaN    NaN   \n",
       "199        NaN    NaN    NaN    NaN    NaN    NaN    NaN    NaN    NaN    4.0   \n",
       "481        NaN    NaN    NaN    NaN    NaN    NaN    NaN    NaN    NaN    5.0   \n",
       "769        NaN    NaN    NaN    NaN    NaN    NaN    NaN    NaN    NaN    NaN   \n",
       "\n",
       "MovieID  ...  17654  17660  17689  17693  17706  17725  17728  17734  17741  \\\n",
       "UserID   ...                                                                  \n",
       "7        ...    NaN    NaN    NaN    NaN    NaN    NaN    NaN    NaN    NaN   \n",
       "79       ...    NaN    NaN    NaN    NaN    NaN    NaN    NaN    NaN    NaN   \n",
       "199      ...    NaN    NaN    NaN    NaN    NaN    NaN    NaN    NaN    NaN   \n",
       "481      ...    NaN    NaN    NaN    NaN    NaN    NaN    NaN    NaN    NaN   \n",
       "769      ...    NaN    NaN    NaN    NaN    NaN    NaN    NaN    NaN    NaN   \n",
       "\n",
       "MovieID  17742  \n",
       "UserID          \n",
       "7          NaN  \n",
       "79         NaN  \n",
       "199        NaN  \n",
       "481        NaN  \n",
       "769        NaN  \n",
       "\n",
       "[5 rows x 1821 columns]"
      ]
     },
     "execution_count": 87,
     "metadata": {},
     "output_type": "execute_result"
    }
   ],
   "source": [
    "# Creating UIM matrix using pivot\n",
    "uim = uim.pivot(index='UserID', columns='MovieID', values='Rating')\n",
    "uim.head()"
   ]
  },
  {
   "cell_type": "code",
   "execution_count": 88,
   "id": "159fb4fb",
   "metadata": {},
   "outputs": [
    {
     "data": {
      "text/html": [
       "<div>\n",
       "<style scoped>\n",
       "    .dataframe tbody tr th:only-of-type {\n",
       "        vertical-align: middle;\n",
       "    }\n",
       "\n",
       "    .dataframe tbody tr th {\n",
       "        vertical-align: top;\n",
       "    }\n",
       "\n",
       "    .dataframe thead th {\n",
       "        text-align: right;\n",
       "    }\n",
       "</style>\n",
       "<table border=\"1\" class=\"dataframe\">\n",
       "  <thead>\n",
       "    <tr style=\"text-align: right;\">\n",
       "      <th>MovieID</th>\n",
       "      <th>8</th>\n",
       "      <th>28</th>\n",
       "      <th>43</th>\n",
       "      <th>48</th>\n",
       "      <th>61</th>\n",
       "      <th>64</th>\n",
       "      <th>66</th>\n",
       "      <th>92</th>\n",
       "      <th>96</th>\n",
       "      <th>111</th>\n",
       "      <th>...</th>\n",
       "      <th>17654</th>\n",
       "      <th>17660</th>\n",
       "      <th>17689</th>\n",
       "      <th>17693</th>\n",
       "      <th>17706</th>\n",
       "      <th>17725</th>\n",
       "      <th>17728</th>\n",
       "      <th>17734</th>\n",
       "      <th>17741</th>\n",
       "      <th>17742</th>\n",
       "    </tr>\n",
       "    <tr>\n",
       "      <th>UserID</th>\n",
       "      <th></th>\n",
       "      <th></th>\n",
       "      <th></th>\n",
       "      <th></th>\n",
       "      <th></th>\n",
       "      <th></th>\n",
       "      <th></th>\n",
       "      <th></th>\n",
       "      <th></th>\n",
       "      <th></th>\n",
       "      <th></th>\n",
       "      <th></th>\n",
       "      <th></th>\n",
       "      <th></th>\n",
       "      <th></th>\n",
       "      <th></th>\n",
       "      <th></th>\n",
       "      <th></th>\n",
       "      <th></th>\n",
       "      <th></th>\n",
       "      <th></th>\n",
       "    </tr>\n",
       "  </thead>\n",
       "  <tbody>\n",
       "    <tr>\n",
       "      <th>7</th>\n",
       "      <td>5.0</td>\n",
       "      <td>4.0</td>\n",
       "      <td>0.0</td>\n",
       "      <td>0.0</td>\n",
       "      <td>0.0</td>\n",
       "      <td>0.0</td>\n",
       "      <td>0.0</td>\n",
       "      <td>0.0</td>\n",
       "      <td>0.0</td>\n",
       "      <td>0.0</td>\n",
       "      <td>...</td>\n",
       "      <td>0.0</td>\n",
       "      <td>0.0</td>\n",
       "      <td>0.0</td>\n",
       "      <td>0.0</td>\n",
       "      <td>0.0</td>\n",
       "      <td>0.0</td>\n",
       "      <td>0.0</td>\n",
       "      <td>0.0</td>\n",
       "      <td>0.0</td>\n",
       "      <td>0.0</td>\n",
       "    </tr>\n",
       "    <tr>\n",
       "      <th>79</th>\n",
       "      <td>0.0</td>\n",
       "      <td>0.0</td>\n",
       "      <td>0.0</td>\n",
       "      <td>0.0</td>\n",
       "      <td>0.0</td>\n",
       "      <td>0.0</td>\n",
       "      <td>0.0</td>\n",
       "      <td>0.0</td>\n",
       "      <td>0.0</td>\n",
       "      <td>0.0</td>\n",
       "      <td>...</td>\n",
       "      <td>0.0</td>\n",
       "      <td>0.0</td>\n",
       "      <td>0.0</td>\n",
       "      <td>0.0</td>\n",
       "      <td>0.0</td>\n",
       "      <td>0.0</td>\n",
       "      <td>0.0</td>\n",
       "      <td>0.0</td>\n",
       "      <td>0.0</td>\n",
       "      <td>0.0</td>\n",
       "    </tr>\n",
       "    <tr>\n",
       "      <th>199</th>\n",
       "      <td>0.0</td>\n",
       "      <td>0.0</td>\n",
       "      <td>0.0</td>\n",
       "      <td>0.0</td>\n",
       "      <td>0.0</td>\n",
       "      <td>0.0</td>\n",
       "      <td>0.0</td>\n",
       "      <td>0.0</td>\n",
       "      <td>0.0</td>\n",
       "      <td>4.0</td>\n",
       "      <td>...</td>\n",
       "      <td>0.0</td>\n",
       "      <td>0.0</td>\n",
       "      <td>0.0</td>\n",
       "      <td>0.0</td>\n",
       "      <td>0.0</td>\n",
       "      <td>0.0</td>\n",
       "      <td>0.0</td>\n",
       "      <td>0.0</td>\n",
       "      <td>0.0</td>\n",
       "      <td>0.0</td>\n",
       "    </tr>\n",
       "    <tr>\n",
       "      <th>481</th>\n",
       "      <td>0.0</td>\n",
       "      <td>0.0</td>\n",
       "      <td>0.0</td>\n",
       "      <td>0.0</td>\n",
       "      <td>0.0</td>\n",
       "      <td>0.0</td>\n",
       "      <td>0.0</td>\n",
       "      <td>0.0</td>\n",
       "      <td>0.0</td>\n",
       "      <td>5.0</td>\n",
       "      <td>...</td>\n",
       "      <td>0.0</td>\n",
       "      <td>0.0</td>\n",
       "      <td>0.0</td>\n",
       "      <td>0.0</td>\n",
       "      <td>0.0</td>\n",
       "      <td>0.0</td>\n",
       "      <td>0.0</td>\n",
       "      <td>0.0</td>\n",
       "      <td>0.0</td>\n",
       "      <td>0.0</td>\n",
       "    </tr>\n",
       "    <tr>\n",
       "      <th>769</th>\n",
       "      <td>0.0</td>\n",
       "      <td>0.0</td>\n",
       "      <td>0.0</td>\n",
       "      <td>0.0</td>\n",
       "      <td>0.0</td>\n",
       "      <td>0.0</td>\n",
       "      <td>0.0</td>\n",
       "      <td>0.0</td>\n",
       "      <td>0.0</td>\n",
       "      <td>0.0</td>\n",
       "      <td>...</td>\n",
       "      <td>0.0</td>\n",
       "      <td>0.0</td>\n",
       "      <td>0.0</td>\n",
       "      <td>0.0</td>\n",
       "      <td>0.0</td>\n",
       "      <td>0.0</td>\n",
       "      <td>0.0</td>\n",
       "      <td>0.0</td>\n",
       "      <td>0.0</td>\n",
       "      <td>0.0</td>\n",
       "    </tr>\n",
       "  </tbody>\n",
       "</table>\n",
       "<p>5 rows × 1821 columns</p>\n",
       "</div>"
      ],
      "text/plain": [
       "MovieID  8      28     43     48     61     64     66     92     96     111    \\\n",
       "UserID                                                                          \n",
       "7          5.0    4.0    0.0    0.0    0.0    0.0    0.0    0.0    0.0    0.0   \n",
       "79         0.0    0.0    0.0    0.0    0.0    0.0    0.0    0.0    0.0    0.0   \n",
       "199        0.0    0.0    0.0    0.0    0.0    0.0    0.0    0.0    0.0    4.0   \n",
       "481        0.0    0.0    0.0    0.0    0.0    0.0    0.0    0.0    0.0    5.0   \n",
       "769        0.0    0.0    0.0    0.0    0.0    0.0    0.0    0.0    0.0    0.0   \n",
       "\n",
       "MovieID  ...  17654  17660  17689  17693  17706  17725  17728  17734  17741  \\\n",
       "UserID   ...                                                                  \n",
       "7        ...    0.0    0.0    0.0    0.0    0.0    0.0    0.0    0.0    0.0   \n",
       "79       ...    0.0    0.0    0.0    0.0    0.0    0.0    0.0    0.0    0.0   \n",
       "199      ...    0.0    0.0    0.0    0.0    0.0    0.0    0.0    0.0    0.0   \n",
       "481      ...    0.0    0.0    0.0    0.0    0.0    0.0    0.0    0.0    0.0   \n",
       "769      ...    0.0    0.0    0.0    0.0    0.0    0.0    0.0    0.0    0.0   \n",
       "\n",
       "MovieID  17742  \n",
       "UserID          \n",
       "7          0.0  \n",
       "79         0.0  \n",
       "199        0.0  \n",
       "481        0.0  \n",
       "769        0.0  \n",
       "\n",
       "[5 rows x 1821 columns]"
      ]
     },
     "execution_count": 88,
     "metadata": {},
     "output_type": "execute_result"
    }
   ],
   "source": [
    "# Filling NA's with 0\n",
    "uim = uim.fillna(0)\n",
    "uim.head()"
   ]
  },
  {
   "cell_type": "code",
   "execution_count": 93,
   "id": "87d535c5",
   "metadata": {},
   "outputs": [],
   "source": [
    "#!pip3 install scikit-learn scipy\n",
    "from sklearn.metrics.pairwise import cosine_similarity\n",
    "\n",
    "# Function for finding similar users\n",
    "# Receives:\n",
    "# - user: The ratings made by the user to study\n",
    "# - uim: The User Item Matrix with all other users to calculate similarity\n",
    "def findSimilarUsers(user, uim):\n",
    "    similarity = []\n",
    "    for i,row in enumerate(uim.values):\n",
    "        cos = cosine_similarity(user, row.reshape(1, -1))[0][0]\n",
    "        similarity.append([i, cos])\n",
    "    temp = pd.DataFrame(similarity, columns=['UserID', 'similarity'])\n",
    "    temp = temp.sort_values(by=['similarity'], ascending=False).copy()\n",
    "    similar_users = list(temp['UserID'].values)\n",
    "    similarities = list(temp['similarity'].values)\n",
    "\n",
    "    return (similar_users, similarities)"
   ]
  },
  {
   "cell_type": "code",
   "execution_count": 94,
   "id": "854573b2",
   "metadata": {},
   "outputs": [],
   "source": [
    "# Test user is created by selecting the first user of the UIM matrix\n",
    "user = uim.iloc[0].values.reshape(1, -1)\n",
    "temp = findSimilarUsers(user, uim)"
   ]
  },
  {
   "cell_type": "code",
   "execution_count": 95,
   "id": "ccbba763",
   "metadata": {},
   "outputs": [
    {
     "data": {
      "text/plain": [
       "[0, 25579, 22260, 9457, 26442]"
      ]
     },
     "execution_count": 95,
     "metadata": {},
     "output_type": "execute_result"
    }
   ],
   "source": [
    "# The top 5 similar users are:\n",
    "temp[0][0:5]"
   ]
  },
  {
   "cell_type": "code",
   "execution_count": 96,
   "id": "d39f20e8",
   "metadata": {},
   "outputs": [
    {
     "data": {
      "text/plain": [
       "[1.0,\n",
       " 0.5916785801335092,\n",
       " 0.5813912375803018,\n",
       " 0.5774919071521013,\n",
       " 0.5761935191093228]"
      ]
     },
     "execution_count": 96,
     "metadata": {},
     "output_type": "execute_result"
    }
   ],
   "source": [
    "# The cosine similarity obtained respectively for that users are:\n",
    "temp[1][0:5]"
   ]
  },
  {
   "cell_type": "code",
   "execution_count": 97,
   "id": "16c4c446",
   "metadata": {},
   "outputs": [],
   "source": [
    "# Function that returns the most suitable recommendations of movies\n",
    "# Requires:\n",
    "# - user: The ratings made by the user to study\n",
    "# - uim: The User Item Matrix with all other users to calculate similarity\n",
    "# - recommendations: Number of expected recommendations\n",
    "# - analyzed_users: Number of similar users to analyze\n",
    "# - findSimilarUsers: Function that finds similar users from the dataset\n",
    "\n",
    "def findSimilarMovies(user, uim, recommendations=10, analyzed_users=10):\n",
    "    # Looking for movies that the user has already seen\n",
    "    seen = list(uim.columns[list((user>0)[0])])\n",
    "    \n",
    "    # Looking for similar users\n",
    "    similars = findSimilarUsers(user, uim)\n",
    "    \n",
    "    # The Dataframe of results is ceated\n",
    "    scores = pd.DataFrame(columns=['MovieID', 'score'])\n",
    "    dtypes = np.dtype([\n",
    "          ('MovieID', int),          \n",
    "          ('score', float),          \n",
    "          ])\n",
    "\n",
    "    # For the top similar users (analyzed users) the process gets repeated\n",
    "    for sim_user, sim_score in zip(similars[0][0:analyzed_users], similars[1][0:analyzed_users]):\n",
    "        # Dropping movies that the studied user has already seen\n",
    "        rec_movies = uim.iloc[sim_user].drop(seen)\n",
    "        # Dropping low rated movies\n",
    "        rec_index = list(rec_movies[rec_movies>4].index.values)        \n",
    "        \n",
    "        if (len(rec_index)>0):\n",
    "            # For every recommended movies of a particualar similar user:\n",
    "            for movie in rec_index:\n",
    "                # If the movie is not in the dataframe, it will add it to the dataframe\n",
    "                if (movie not in scores['MovieID'].values):\n",
    "                    scores.loc[len(scores)] = (movie, 10*sim_score)\n",
    "                else: \n",
    "                # If the movies is already in the dataframe , it will increase its score\n",
    "                    scores.loc[scores['MovieID']==movie, 'score'] += 10*sim_score\n",
    "        # The values are sorted by the score obtained\n",
    "        scores.sort_values(by='score', ascending=False, inplace=True)\n",
    "        \n",
    "        # There could the case that not enough users are similar\n",
    "        try:\n",
    "            scores = scores.head(recommendations)\n",
    "            scores['MovieID'] = scores['MovieID'].astype(int)\n",
    "        except:\n",
    "            scores['MovieID'] = scores['MovieID'].astype(int)\n",
    "    \n",
    "    # The movie id's and their corresponding scores are returned in lists\n",
    "    return (list(scores.MovieID.values), list(scores.score.values))   "
   ]
  },
  {
   "cell_type": "code",
   "execution_count": 98,
   "id": "b5cd99ae",
   "metadata": {},
   "outputs": [
    {
     "data": {
      "text/html": [
       "<div>\n",
       "<style scoped>\n",
       "    .dataframe tbody tr th:only-of-type {\n",
       "        vertical-align: middle;\n",
       "    }\n",
       "\n",
       "    .dataframe tbody tr th {\n",
       "        vertical-align: top;\n",
       "    }\n",
       "\n",
       "    .dataframe thead th {\n",
       "        text-align: right;\n",
       "    }\n",
       "</style>\n",
       "<table border=\"1\" class=\"dataframe\">\n",
       "  <thead>\n",
       "    <tr style=\"text-align: right;\">\n",
       "      <th></th>\n",
       "      <th>MovieID</th>\n",
       "      <th>Score</th>\n",
       "    </tr>\n",
       "  </thead>\n",
       "  <tbody>\n",
       "    <tr>\n",
       "      <th>0</th>\n",
       "      <td>12280</td>\n",
       "      <td>23.003437</td>\n",
       "    </tr>\n",
       "    <tr>\n",
       "      <th>1</th>\n",
       "      <td>13636</td>\n",
       "      <td>17.286390</td>\n",
       "    </tr>\n",
       "    <tr>\n",
       "      <th>2</th>\n",
       "      <td>11812</td>\n",
       "      <td>17.247149</td>\n",
       "    </tr>\n",
       "    <tr>\n",
       "      <th>3</th>\n",
       "      <td>442</td>\n",
       "      <td>11.588831</td>\n",
       "    </tr>\n",
       "    <tr>\n",
       "      <th>4</th>\n",
       "      <td>13015</td>\n",
       "      <td>11.552155</td>\n",
       "    </tr>\n",
       "    <tr>\n",
       "      <th>5</th>\n",
       "      <td>7569</td>\n",
       "      <td>5.916786</td>\n",
       "    </tr>\n",
       "    <tr>\n",
       "      <th>6</th>\n",
       "      <td>13477</td>\n",
       "      <td>5.813912</td>\n",
       "    </tr>\n",
       "    <tr>\n",
       "      <th>7</th>\n",
       "      <td>11888</td>\n",
       "      <td>5.813912</td>\n",
       "    </tr>\n",
       "    <tr>\n",
       "      <th>8</th>\n",
       "      <td>9798</td>\n",
       "      <td>5.813912</td>\n",
       "    </tr>\n",
       "    <tr>\n",
       "      <th>9</th>\n",
       "      <td>13614</td>\n",
       "      <td>5.694994</td>\n",
       "    </tr>\n",
       "  </tbody>\n",
       "</table>\n",
       "</div>"
      ],
      "text/plain": [
       "   MovieID      Score\n",
       "0    12280  23.003437\n",
       "1    13636  17.286390\n",
       "2    11812  17.247149\n",
       "3      442  11.588831\n",
       "4    13015  11.552155\n",
       "5     7569   5.916786\n",
       "6    13477   5.813912\n",
       "7    11888   5.813912\n",
       "8     9798   5.813912\n",
       "9    13614   5.694994"
      ]
     },
     "execution_count": 98,
     "metadata": {},
     "output_type": "execute_result"
    }
   ],
   "source": [
    "# movie Id and Score obtained for that recommendation\n",
    "ids, scores = findSimilarMovies(user, uim)    \n",
    "pd.DataFrame({'MovieID': ids, 'Score': scores})"
   ]
  },
  {
   "cell_type": "code",
   "execution_count": 101,
   "id": "bc55ee58",
   "metadata": {},
   "outputs": [
    {
     "data": {
      "text/html": [
       "<div>\n",
       "<style scoped>\n",
       "    .dataframe tbody tr th:only-of-type {\n",
       "        vertical-align: middle;\n",
       "    }\n",
       "\n",
       "    .dataframe tbody tr th {\n",
       "        vertical-align: top;\n",
       "    }\n",
       "\n",
       "    .dataframe thead th {\n",
       "        text-align: right;\n",
       "    }\n",
       "</style>\n",
       "<table border=\"1\" class=\"dataframe\">\n",
       "  <thead>\n",
       "    <tr style=\"text-align: right;\">\n",
       "      <th></th>\n",
       "      <th>MovieID</th>\n",
       "      <th>Title</th>\n",
       "    </tr>\n",
       "  </thead>\n",
       "  <tbody>\n",
       "    <tr>\n",
       "      <th>440</th>\n",
       "      <td>442</td>\n",
       "      <td>Mississippi Burning</td>\n",
       "    </tr>\n",
       "    <tr>\n",
       "      <th>7567</th>\n",
       "      <td>7569</td>\n",
       "      <td>Dead Like Me: Season 2</td>\n",
       "    </tr>\n",
       "    <tr>\n",
       "      <th>9796</th>\n",
       "      <td>9798</td>\n",
       "      <td>A Civil Action</td>\n",
       "    </tr>\n",
       "    <tr>\n",
       "      <th>11810</th>\n",
       "      <td>11812</td>\n",
       "      <td>Million Dollar Baby</td>\n",
       "    </tr>\n",
       "    <tr>\n",
       "      <th>11886</th>\n",
       "      <td>11888</td>\n",
       "      <td>In the Line of Fire</td>\n",
       "    </tr>\n",
       "    <tr>\n",
       "      <th>12278</th>\n",
       "      <td>12280</td>\n",
       "      <td>The Jerk</td>\n",
       "    </tr>\n",
       "    <tr>\n",
       "      <th>13013</th>\n",
       "      <td>13015</td>\n",
       "      <td>The Lost Boys: Special Edition</td>\n",
       "    </tr>\n",
       "    <tr>\n",
       "      <th>13475</th>\n",
       "      <td>13477</td>\n",
       "      <td>Stephen King's The Shining</td>\n",
       "    </tr>\n",
       "    <tr>\n",
       "      <th>13612</th>\n",
       "      <td>13614</td>\n",
       "      <td>Office Space</td>\n",
       "    </tr>\n",
       "    <tr>\n",
       "      <th>13634</th>\n",
       "      <td>13636</td>\n",
       "      <td>Fast Times at Ridgemont High</td>\n",
       "    </tr>\n",
       "  </tbody>\n",
       "</table>\n",
       "</div>"
      ],
      "text/plain": [
       "       MovieID                           Title\n",
       "440        442             Mississippi Burning\n",
       "7567      7569          Dead Like Me: Season 2\n",
       "9796      9798                  A Civil Action\n",
       "11810    11812             Million Dollar Baby\n",
       "11886    11888             In the Line of Fire\n",
       "12278    12280                        The Jerk\n",
       "13013    13015  The Lost Boys: Special Edition\n",
       "13475    13477      Stephen King's The Shining\n",
       "13612    13614                    Office Space\n",
       "13634    13636    Fast Times at Ridgemont High"
      ]
     },
     "execution_count": 101,
     "metadata": {},
     "output_type": "execute_result"
    }
   ],
   "source": [
    "# Looking for what movies belong to those movie ids\n",
    "pandas_movies_df[pandas_movies_df['MovieID'].isin(ids)]"
   ]
  },
  {
   "cell_type": "code",
   "execution_count": 2,
   "id": "8a9207a7",
   "metadata": {},
   "outputs": [],
   "source": [
    "from surprise import KNNBasic\n",
    "from surprise.model_selection import cross_validate\n",
    "from surprise import Dataset\n",
    "from surprise import Reader"
   ]
  },
  {
   "cell_type": "code",
   "execution_count": 15,
   "id": "d1376401",
   "metadata": {},
   "outputs": [
    {
     "name": "stderr",
     "output_type": "stream",
     "text": [
      "22/05/03 08:29:18 WARN CacheManager: Asked to cache already cached data.\n",
      "22/05/03 08:29:18 WARN CacheManager: Asked to cache already cached data.\n",
      "22/05/03 08:29:18 WARN CacheManager: Asked to cache already cached data.\n"
     ]
    },
    {
     "name": "stdout",
     "output_type": "stream",
     "text": [
      "Training: 60335, validation: 20264, test: 19878\n",
      "\n"
     ]
    }
   ],
   "source": [
    "#taking more time to execute for Training Dataset so given splitted validation data as input\n",
    "seed = 99\n",
    "(sample_train_df, sample_test_df, sample_val_df) = testingRatings_df.randomSplit([6.0, 2.0, 2.0], seed)\n",
    "\n",
    "# Let's cache these datasets for performance\n",
    "sample_training_df = sample_train_df.cache()\n",
    "sample_validation_df = sample_val_df.cache()\n",
    "sample_test_df = sample_test_df.cache()\n",
    "\n",
    "print('Training: {0}, validation: {1}, test: {2}\\n'.format(\n",
    "  sample_training_df.count(), sample_validation_df.count(), sample_test_df.count())\n",
    ")\n",
    "\n",
    "#pandasDF = trainingRatings_df.toPandas()\n",
    "pandasDF = sample_test_df.toPandas()  #taking more time to execute so given validation data as input\n",
    "reader = Reader(rating_scale=(1, 5))\n",
    "dataset = Dataset.load_from_df(pandasDF,reader)"
   ]
  },
  {
   "cell_type": "code",
   "execution_count": 16,
   "id": "2b7f51f6",
   "metadata": {},
   "outputs": [
    {
     "name": "stdout",
     "output_type": "stream",
     "text": [
      "Computing the pearson similarity matrix...\n",
      "Done computing similarity matrix.\n",
      "Computing the pearson similarity matrix...\n",
      "Done computing similarity matrix.\n",
      "Computing the pearson similarity matrix...\n",
      "Done computing similarity matrix.\n",
      "Computing the pearson similarity matrix...\n",
      "Done computing similarity matrix.\n",
      "Computing the pearson similarity matrix...\n",
      "Done computing similarity matrix.\n",
      "Evaluating RMSE of algorithm KNNBasic on 5 split(s).\n",
      "\n",
      "                  Fold 1  Fold 2  Fold 3  Fold 4  Fold 5  Mean    Std     \n",
      "RMSE (testset)    1.0836  1.0637  1.0729  1.0905  1.0953  1.0812  0.0115  \n",
      "Fit time          0.04    0.03    0.02    0.03    0.02    0.03    0.01    \n",
      "Test time         0.02    0.02    0.02    0.02    0.02    0.02    0.00    \n"
     ]
    },
    {
     "data": {
      "text/plain": [
       "{'test_rmse': array([1.08357518, 1.06373031, 1.07291963, 1.0904588 , 1.09529248]),\n",
       " 'fit_time': (0.038956642150878906,\n",
       "  0.02957749366760254,\n",
       "  0.022879362106323242,\n",
       "  0.026577472686767578,\n",
       "  0.024404525756835938),\n",
       " 'test_time': (0.01745152473449707,\n",
       "  0.018187284469604492,\n",
       "  0.018151283264160156,\n",
       "  0.018984079360961914,\n",
       "  0.018859386444091797)}"
      ]
     },
     "execution_count": 16,
     "metadata": {},
     "output_type": "execute_result"
    }
   ],
   "source": [
    "#Item Based approach\n",
    "sim_options = {\n",
    "    'name': 'pearson',\n",
    "    'user_based': 'False'\n",
    "}\n",
    "\n",
    "clf = KNNBasic(sim_options = sim_options)\n",
    "cross_validate(clf, dataset, measures=['RMSE'], cv=5, verbose=True)"
   ]
  },
  {
   "cell_type": "code",
   "execution_count": 17,
   "id": "9215a8cc",
   "metadata": {},
   "outputs": [
    {
     "name": "stdout",
     "output_type": "stream",
     "text": [
      "Computing the msd similarity matrix...\n",
      "Done computing similarity matrix.\n",
      "Computing the msd similarity matrix...\n",
      "Done computing similarity matrix.\n",
      "Computing the msd similarity matrix...\n",
      "Done computing similarity matrix.\n",
      "Computing the msd similarity matrix...\n",
      "Done computing similarity matrix.\n",
      "Computing the msd similarity matrix...\n",
      "Done computing similarity matrix.\n",
      "Evaluating RMSE of algorithm KNNBasic on 5 split(s).\n",
      "\n",
      "                  Fold 1  Fold 2  Fold 3  Fold 4  Fold 5  Mean    Std     \n",
      "RMSE (testset)    1.1080  1.0795  1.0945  1.0978  1.1020  1.0964  0.0096  \n",
      "Fit time          0.02    0.02    0.02    0.01    0.02    0.02    0.00    \n",
      "Test time         0.02    0.02    0.02    0.02    0.05    0.02    0.01    \n"
     ]
    },
    {
     "data": {
      "text/plain": [
       "{'test_rmse': array([1.10803896, 1.07948551, 1.09445181, 1.09776033, 1.10202666]),\n",
       " 'fit_time': (0.02236151695251465,\n",
       "  0.016630172729492188,\n",
       "  0.01509547233581543,\n",
       "  0.014615297317504883,\n",
       "  0.017407894134521484),\n",
       " 'test_time': (0.018701553344726562,\n",
       "  0.017722606658935547,\n",
       "  0.017951488494873047,\n",
       "  0.018004655838012695,\n",
       "  0.05188584327697754)}"
      ]
     },
     "execution_count": 17,
     "metadata": {},
     "output_type": "execute_result"
    }
   ],
   "source": [
    "#User Based approach\n",
    "sim_options = {\n",
    "    'name': 'MSD',\n",
    "    'user_based': 'True'\n",
    "}\n",
    "\n",
    "clf = KNNBasic(sim_options = sim_options)\n",
    "cross_validate(clf, dataset, measures=['RMSE'], cv=5, verbose=True)"
   ]
  },
  {
   "cell_type": "code",
   "execution_count": 7,
   "id": "c46e48dd",
   "metadata": {},
   "outputs": [],
   "source": [
    "# Import the required functions\n",
    "from pyspark.ml.evaluation import RegressionEvaluator\n",
    "from pyspark.ml.recommendation import ALS\n",
    "from pyspark.ml.tuning import ParamGridBuilder, CrossValidator\n",
    "# Create ALS model\n",
    "als = ALS(\n",
    "         maxIter=10,\n",
    "         userCol=\"UserID\", \n",
    "         itemCol=\"MovieID\",\n",
    "         ratingCol=\"Rating\", \n",
    "         nonnegative = True, \n",
    "         implicitPrefs = False,\n",
    "         coldStartStrategy=\"drop\"\n",
    ")"
   ]
  },
  {
   "cell_type": "code",
   "execution_count": 8,
   "id": "77842dca",
   "metadata": {},
   "outputs": [],
   "source": [
    "# Import the requisite packages\n",
    "from pyspark.ml.tuning import ParamGridBuilder, CrossValidator\n",
    "from pyspark.ml.evaluation import RegressionEvaluator"
   ]
  },
  {
   "cell_type": "markdown",
   "id": "749efcd8",
   "metadata": {},
   "source": [
    "ParamGridBuilder: We will first define the tuning parameter using param_grid function, please feel free experiment with parameters for the grid. I have only chosen 4 parameters for each grid. This will result in 16 models for training.# "
   ]
  },
  {
   "cell_type": "code",
   "execution_count": 9,
   "id": "cf270eda",
   "metadata": {},
   "outputs": [
    {
     "name": "stdout",
     "output_type": "stream",
     "text": [
      "Num models to be tested:  9\n"
     ]
    }
   ],
   "source": [
    "# Add hyperparameters and their respective values to param_grid\n",
    "param_grid = ParamGridBuilder() \\\n",
    "            .addGrid(als.rank, [10, 20, 50,]) \\\n",
    "            .addGrid(als.regParam, [.01, .05, .1, ]) \\\n",
    "            .build()\n",
    "print (\"Num models to be tested: \", len(param_grid))"
   ]
  },
  {
   "cell_type": "markdown",
   "id": "ec3420b0",
   "metadata": {},
   "source": [
    "# RegressionEvaluator"
   ]
  },
  {
   "cell_type": "markdown",
   "id": "ab7cf2e5",
   "metadata": {},
   "source": [
    " Define the evaluator, select rmse as metricName in evaluator."
   ]
  },
  {
   "cell_type": "code",
   "execution_count": 10,
   "id": "2c8235f1",
   "metadata": {},
   "outputs": [],
   "source": [
    "# Define evaluator as RMSE \n",
    "rmse_evaluator = RegressionEvaluator(\n",
    "           metricName=\"rmse\", \n",
    "           labelCol=\"Rating\", \n",
    "           predictionCol=\"prediction\") "
   ]
  },
  {
   "cell_type": "code",
   "execution_count": 11,
   "id": "bcad4d53",
   "metadata": {},
   "outputs": [],
   "source": [
    "# Define evaluator as MSE\n",
    "mse_evaluator = RegressionEvaluator(\n",
    "           metricName=\"mse\", \n",
    "           labelCol=\"Rating\", \n",
    "           predictionCol=\"prediction\") "
   ]
  },
  {
   "cell_type": "code",
   "execution_count": 12,
   "id": "50e3fe40",
   "metadata": {},
   "outputs": [],
   "source": [
    "# Build cross validation using CrossValidator\n",
    "cv = CrossValidator(estimator=als, estimatorParamMaps=param_grid, evaluator=rmse_evaluator, numFolds=5)"
   ]
  },
  {
   "cell_type": "code",
   "execution_count": 13,
   "id": "23f555d4",
   "metadata": {},
   "outputs": [
    {
     "name": "stderr",
     "output_type": "stream",
     "text": [
      "                                                                                \r"
     ]
    }
   ],
   "source": [
    "#Fit cross validator to the 'train' dataset\n",
    "model = cv.fit(trainingRatings_df)\n"
   ]
  },
  {
   "cell_type": "code",
   "execution_count": 14,
   "id": "4b238743",
   "metadata": {},
   "outputs": [
    {
     "name": "stdout",
     "output_type": "stream",
     "text": [
      "**Best Model**\n",
      "  Rank: 20\n",
      "  MaxIter: 10\n",
      "  RegParam: 0.05\n"
     ]
    }
   ],
   "source": [
    "#Extract best model from the cv model above\n",
    "best_model = model.bestModel\n",
    "print(\"**Best Model**\")\n",
    "# Print \"Rank\"\n",
    "print(\"  Rank:\", best_model._java_obj.parent().getRank())\n",
    "# Print \"MaxIter\"\n",
    "print(\"  MaxIter:\", best_model._java_obj.parent().getMaxIter())\n",
    "# Print \"RegParam\"\n",
    "print(\"  RegParam:\", best_model._java_obj.parent().getRegParam())"
   ]
  },
  {
   "cell_type": "code",
   "execution_count": 15,
   "id": "5c451f70",
   "metadata": {},
   "outputs": [],
   "source": [
    "# View the predictions\n",
    "test_predictions = best_model.transform(testingRatings_df)"
   ]
  },
  {
   "cell_type": "code",
   "execution_count": 16,
   "id": "23d9d703",
   "metadata": {},
   "outputs": [
    {
     "name": "stdout",
     "output_type": "stream",
     "text": [
      "Model Predicted Ratings on Test data : \n",
      "\n",
      "+-------+-------+------+----------+\n",
      "|MovieID|UserID |Rating|prediction|\n",
      "+-------+-------+------+----------+\n",
      "|28     |2358799|3.0   |3.861073  |\n",
      "|156    |973051 |5.0   |4.066124  |\n",
      "|851    |1189060|3.0   |3.5445638 |\n",
      "|1100   |2376892|2.0   |2.2553442 |\n",
      "|1123   |1628484|3.0   |3.4171214 |\n",
      "+-------+-------+------+----------+\n",
      "only showing top 5 rows\n",
      "\n"
     ]
    }
   ],
   "source": [
    "print(\"Model Predicted Ratings on Test data : \\n\")  \n",
    "test_predictions.show(5, truncate=False)"
   ]
  },
  {
   "cell_type": "code",
   "execution_count": 17,
   "id": "ef19b872",
   "metadata": {},
   "outputs": [
    {
     "name": "stderr",
     "output_type": "stream",
     "text": [
      "[Stage 4065:========================================>           (155 + 8) / 200]"
     ]
    },
    {
     "name": "stdout",
     "output_type": "stream",
     "text": [
      "RMSE Error on Test data :  0.8356966096190834\n"
     ]
    },
    {
     "name": "stderr",
     "output_type": "stream",
     "text": [
      "                                                                                \r"
     ]
    }
   ],
   "source": [
    "RMSE = rmse_evaluator.evaluate(test_predictions)\n",
    "print('RMSE Error on Test data : ', RMSE)"
   ]
  },
  {
   "cell_type": "code",
   "execution_count": 18,
   "id": "31428636",
   "metadata": {},
   "outputs": [
    {
     "name": "stderr",
     "output_type": "stream",
     "text": [
      "[Stage 4095:===================================>                (136 + 8) / 200]"
     ]
    },
    {
     "name": "stdout",
     "output_type": "stream",
     "text": [
      "MSE Error on Test data :  0.6983888233288308\n"
     ]
    },
    {
     "name": "stderr",
     "output_type": "stream",
     "text": [
      "                                                                                \r"
     ]
    }
   ],
   "source": [
    "\n",
    "MSE = mse_evaluator.evaluate(test_predictions)\n",
    "print('MSE Error on Test data : ', MSE)"
   ]
  },
  {
   "cell_type": "code",
   "execution_count": 19,
   "id": "a87389f9",
   "metadata": {},
   "outputs": [
    {
     "name": "stderr",
     "output_type": "stream",
     "text": [
      "[Stage 4121:====================================================>(99 + 1) / 100]"
     ]
    },
    {
     "name": "stdout",
     "output_type": "stream",
     "text": [
      "+------+--------------------+\n",
      "|UserID|     recommendations|\n",
      "+------+--------------------+\n",
      "|   481|[[7569, 5.200222]...|\n",
      "|  2678|[[12421, 4.433958...|\n",
      "|  3595|[[12293, 4.726034...|\n",
      "|  6460|[[9973, 4.8176937...|\n",
      "|  7284|[[7016, 5.561732]...|\n",
      "|  7576|[[6522, 5.0784793...|\n",
      "|  9597|[[15480, 4.309165...|\n",
      "| 15191|[[6287, 4.7901707...|\n",
      "| 15846|[[16147, 5.028747...|\n",
      "| 20461|[[14283, 4.715459...|\n",
      "| 20774|[[6991, 4.236231]...|\n",
      "| 26258|[[1256, 4.410603]...|\n",
      "| 27608|[[6991, 4.792004]...|\n",
      "| 28346|[[17085, 4.641161...|\n",
      "| 30941|[[6991, 5.4102864...|\n",
      "| 30976|[[1256, 4.9180794...|\n",
      "| 31203|[[12293, 4.52064]...|\n",
      "| 36822|[[6287, 5.7062845...|\n",
      "| 40851|[[17515, 4.41642]...|\n",
      "| 41068|[[12293, 4.10149]...|\n",
      "+------+--------------------+\n",
      "only showing top 20 rows\n",
      "\n"
     ]
    },
    {
     "name": "stderr",
     "output_type": "stream",
     "text": [
      "                                                                                \r"
     ]
    }
   ],
   "source": [
    "# Generate n Recommendations for all users n = 10\n",
    "recommendations = best_model.recommendForAllUsers(10)\n",
    "recommendations.show()"
   ]
  },
  {
   "cell_type": "code",
   "execution_count": 20,
   "id": "37827056",
   "metadata": {},
   "outputs": [
    {
     "name": "stderr",
     "output_type": "stream",
     "text": [
      "[Stage 4172:==================================================>  (96 + 4) / 100]"
     ]
    },
    {
     "name": "stdout",
     "output_type": "stream",
     "text": [
      "+------+-------+---------+\n",
      "|UserID|MovieID|   Rating|\n",
      "+------+-------+---------+\n",
      "|   481|   7569| 5.200222|\n",
      "|   481|   7916|5.0914083|\n",
      "|   481|  16559|5.0560937|\n",
      "|   481|   6991|4.9898877|\n",
      "|   481|   5813| 4.933182|\n",
      "|   481|   2985|4.9163003|\n",
      "|   481|  14648|4.9094286|\n",
      "|   481|   7382|  4.88799|\n",
      "|   481|  17515| 4.882816|\n",
      "|   481|   4238|4.8812647|\n",
      "+------+-------+---------+\n",
      "\n"
     ]
    },
    {
     "name": "stderr",
     "output_type": "stream",
     "text": [
      "                                                                                \r"
     ]
    }
   ],
   "source": [
    "nrecommendations = recommendations\\\n",
    "    .withColumn(\"rec_exp\", explode(\"recommendations\"))\\\n",
    "    .select('UserID', col(\"rec_exp.MovieID\"), col(\"rec_exp.Rating\"))\n",
    "\n",
    "nrecommendations.limit(10).show()"
   ]
  },
  {
   "cell_type": "code",
   "execution_count": null,
   "id": "07792f41",
   "metadata": {},
   "outputs": [],
   "source": [
    "#movieTitles_df.show(3)"
   ]
  },
  {
   "cell_type": "code",
   "execution_count": 21,
   "id": "b3c4d492",
   "metadata": {},
   "outputs": [
    {
     "name": "stderr",
     "output_type": "stream",
     "text": [
      "[Stage 4251:=================================================>   (94 + 6) / 100]"
     ]
    },
    {
     "name": "stdout",
     "output_type": "stream",
     "text": [
      "+-------+------+---------+--------------------+\n",
      "|MovieID|UserID|   Rating|               Title|\n",
      "+-------+------+---------+--------------------+\n",
      "|   7569|   481| 5.200222|Dead Like Me: Sea...|\n",
      "|   7916|   481|5.0914083|Tibetan Book of t...|\n",
      "|  16559|   481|5.0560937|Red Green: Stuffe...|\n",
      "|   6991|   481|4.9898877|    A History of God|\n",
      "|   5813|   481| 4.933182|Diana Krall: Live...|\n",
      "|   2985|   481|4.9163003|There's Something...|\n",
      "|  14648|   481|4.9094286|Finding Nemo (Ful...|\n",
      "|   7382|   481|  4.88799|WWE: Tombstone: T...|\n",
      "|  17515|   481| 4.882816|LeapFrog: Letter ...|\n",
      "|   4238|   481|4.8812647|           Inu-Yasha|\n",
      "+-------+------+---------+--------------------+\n",
      "only showing top 10 rows\n",
      "\n"
     ]
    },
    {
     "name": "stderr",
     "output_type": "stream",
     "text": [
      "                                                                                \r"
     ]
    }
   ],
   "source": [
    "total_rec_df = nrecommendations.join(movieTitles_df, on='MovieID')\n",
    "total_rec_df.show(10)"
   ]
  },
  {
   "cell_type": "code",
   "execution_count": 22,
   "id": "322a565a",
   "metadata": {},
   "outputs": [
    {
     "name": "stderr",
     "output_type": "stream",
     "text": [
      "[Stage 4303:===================================================> (98 + 2) / 100]"
     ]
    },
    {
     "name": "stdout",
     "output_type": "stream",
     "text": [
      "+-------+------+---------+--------------------+\n",
      "|MovieID|UserID|   Rating|               Title|\n",
      "+-------+------+---------+--------------------+\n",
      "|  12421|  2678|4.4339585|        The Crusades|\n",
      "|  15480|  2678|4.3982887|Farscape: The Pea...|\n",
      "|  12125|  2678|4.3975625|The Blue Planet: ...|\n",
      "|  12544|  2678|4.3677964|Peter Gabriel: Pl...|\n",
      "|   4238|  2678|4.3015156|           Inu-Yasha|\n",
      "|   7283|  2678|4.2696924|Due South: Call o...|\n",
      "|  10947|  2678| 4.256988|     The Incredibles|\n",
      "|  17515|  2678|4.2543573|LeapFrog: Letter ...|\n",
      "|   2160|  2678| 4.209249|Magnetic Storm: Nova|\n",
      "|   7505|  2678| 4.186874|Fushigi Yugi: The...|\n",
      "+-------+------+---------+--------------------+\n",
      "\n"
     ]
    },
    {
     "name": "stderr",
     "output_type": "stream",
     "text": [
      "                                                                                \r"
     ]
    }
   ],
   "source": [
    "total_rec_df.filter('UserId = 2678').sort('Rating', ascending=False).limit(10).show()"
   ]
  },
  {
   "cell_type": "code",
   "execution_count": 23,
   "id": "d72d54df",
   "metadata": {},
   "outputs": [
    {
     "name": "stderr",
     "output_type": "stream",
     "text": [
      "[Stage 4355:==========>  (83 + 8) / 100][Stage 4356:>               (0 + 0) / 1]"
     ]
    },
    {
     "name": "stdout",
     "output_type": "stream",
     "text": [
      "+-------+------+---------+--------------------+\n",
      "|MovieID|UserID|   Rating|               Title|\n",
      "+-------+------+---------+--------------------+\n",
      "|   7569|   481| 5.200222|Dead Like Me: Sea...|\n",
      "|   7916|   481|5.0914083|Tibetan Book of t...|\n",
      "|  16559|   481|5.0560937|Red Green: Stuffe...|\n",
      "|   6991|   481|4.9898877|    A History of God|\n",
      "|   5813|   481| 4.933182|Diana Krall: Live...|\n",
      "|   2985|   481|4.9163003|There's Something...|\n",
      "|  14648|   481|4.9094286|Finding Nemo (Ful...|\n",
      "|   7382|   481|  4.88799|WWE: Tombstone: T...|\n",
      "|  17515|   481| 4.882816|LeapFrog: Letter ...|\n",
      "|   4238|   481|4.8812647|           Inu-Yasha|\n",
      "+-------+------+---------+--------------------+\n",
      "\n"
     ]
    },
    {
     "name": "stderr",
     "output_type": "stream",
     "text": [
      "                                                                                \r"
     ]
    }
   ],
   "source": [
    "total_rec_df.filter('UserId = 481').sort('Rating', ascending=False).limit(10).show()"
   ]
  },
  {
   "cell_type": "code",
   "execution_count": 24,
   "id": "a128c101",
   "metadata": {},
   "outputs": [
    {
     "name": "stderr",
     "output_type": "stream",
     "text": [
      "[Stage 4409:==============================================>      (88 + 8) / 100]"
     ]
    },
    {
     "name": "stdout",
     "output_type": "stream",
     "text": [
      "+-------+-------+---------+--------------------+\n",
      "|MovieID| UserID|   Rating|               Title|\n",
      "+-------+-------+---------+--------------------+\n",
      "|   6991|1395430|4.5091014|    A History of God|\n",
      "|  12232|1395430|4.1886826| Lost in Translation|\n",
      "|  10943|1395430| 4.161899|Ben Folds Five: C...|\n",
      "|  10743|1395430|4.0438566|Pearl Jam: Tourin...|\n",
      "|   8933|1395430| 4.035455|Ikiru: Bonus Mate...|\n",
      "|   2355|1395430|4.0132585|Berlin: Symphony ...|\n",
      "|  12125|1395430| 3.998653|The Blue Planet: ...|\n",
      "|   3742|1395430|3.9916058|           Notorious|\n",
      "|   7823|1395430|3.9832985|Monty Python's Th...|\n",
      "|   6522|1395430|3.9576068|Trailer Park Boys...|\n",
      "+-------+-------+---------+--------------------+\n",
      "\n"
     ]
    },
    {
     "name": "stderr",
     "output_type": "stream",
     "text": [
      "                                                                                \r"
     ]
    }
   ],
   "source": [
    "total_rec_df.filter('UserId = 1395430').sort('Rating', ascending=False).limit(10).show()"
   ]
  },
  {
   "cell_type": "code",
   "execution_count": 25,
   "id": "248690a9",
   "metadata": {},
   "outputs": [
    {
     "name": "stderr",
     "output_type": "stream",
     "text": [
      "                                                                                \r"
     ]
    }
   ],
   "source": [
    "# SAVE ALS model\n",
    "als.save('./als_model')\n",
    "# SAVE Cross validation model\n",
    "model.save('./cv_model')"
   ]
  },
  {
   "cell_type": "markdown",
   "id": "a09ff5c4",
   "metadata": {},
   "source": [
    "# My Ratings Predictions"
   ]
  },
  {
   "cell_type": "code",
   "execution_count": 47,
   "id": "fbe9c74d",
   "metadata": {},
   "outputs": [
    {
     "name": "stdout",
     "output_type": "stream",
     "text": [
      "+-------+------+------+--------------------+\n",
      "|MovieID|UserID|Rating|               Title|\n",
      "+-------+------+------+--------------------+\n",
      "|   6991|  5000|   5.0|    A History of God|\n",
      "|  12232|  5000|   3.0| Lost in Translation|\n",
      "|   7569|  5000|   2.5|Dead Like Me: Sea...|\n",
      "|  16559|  5000|   4.0|Red Green: Stuffe...|\n",
      "|   8933|  5000|   1.8|Ikiru: Bonus Mate...|\n",
      "|   2355|  5000|   4.6|Berlin: Symphony ...|\n",
      "|  12125|  5000|   1.0|The Blue Planet: ...|\n",
      "|   2160|  5000|   2.0|Magnetic Storm: Nova|\n",
      "|    209|  5000|   3.0|Star Trek: Deep S...|\n",
      "|  17515|  5000|   3.5|LeapFrog: Letter ...|\n",
      "|   2985|  5000|   0.0|There's Something...|\n",
      "|     28|  5000|   5.0|     Lilo and Stitch|\n",
      "|   1100|  5000|   3.0|   Dr. T & the Women|\n",
      "|   4238|  5000|   4.0|           Inu-Yasha|\n",
      "|   7283|  5000|   2.0|Due South: Call o...|\n",
      "|   6522|  5000|   1.0|Trailer Park Boys...|\n",
      "|  15040|  5000|   3.5|Rage Against the ...|\n",
      "|   3151|  5000|   4.5|   Napoleon Dynamite|\n",
      "|    218|  5000|   2.5|Triumph: Live at ...|\n",
      "|   7016|  5000|   1.5|Raging Bull: Coll...|\n",
      "+-------+------+------+--------------------+\n",
      "only showing top 20 rows\n",
      "\n"
     ]
    }
   ],
   "source": [
    "from pyspark.sql import Row\n",
    "my_user_id = 5000\n",
    "\n",
    "testingRatings_df_schema = StructType(\n",
    "  [StructField('MovieID', IntegerType()),\n",
    "   StructField('UserID', IntegerType()),\n",
    "   StructField('Rating', DoubleType())]\n",
    ")\n",
    "# Note that the movie IDs are the *last* number on each line. A common error was to use the number of ratings as the movie ID.\n",
    "# The format of each line is (my_user_id, movie ID, your rating)\n",
    "my_rated_movies = [\n",
    "             (6991,my_user_id,5.0),\n",
    "             (12232,my_user_id,3.0),\n",
    "             (7569,my_user_id,2.5),\n",
    "             (16559,my_user_id,4.0),\n",
    "             (8933,my_user_id,1.8),\n",
    "             (2355,my_user_id,4.6),\n",
    "             (12125,my_user_id,1.0),\n",
    "             (2160,my_user_id,2.0),\n",
    "             (209,my_user_id,3.0),\n",
    "             (17515,my_user_id,3.5),\n",
    "             (2985,my_user_id,0.0),\n",
    "             (28,my_user_id,5.0),\n",
    "             (1100,my_user_id,3.0),\n",
    "             (4238,my_user_id,4.0),\n",
    "             (7283,my_user_id,2.0),\n",
    "             (6522,my_user_id,1.0),\n",
    "             (15040,my_user_id,3.5),\n",
    "             (3151,my_user_id,4.5),\n",
    "             (218,my_user_id,2.5),\n",
    "             (7016,my_user_id,1.5),\n",
    "             (15567,my_user_id,1.8),\n",
    "             (9701,my_user_id,2.8),\n",
    "             (4963,my_user_id,3.0),\n",
    "             (4,my_user_id,5.0),\n",
    "             (1, my_user_id,4.6),\n",
    "            \n",
    "]\n",
    "        \n",
    "my_ratings_df = sqlContext.createDataFrame(my_rated_movies, schema=testingRatings_df_schema)\n",
    "my_ratings_df.cache()\n",
    "seed = 1999\n",
    "my_train_df, my_test_df, my_val_df = my_ratings_df.randomSplit([6.0, 3.0, 1.0], seed)\n",
    "my_test_df = my_test_df.union(my_val_df)\n",
    "\n",
    "my_train_df.cache()\n",
    "my_test_df.cache()\n",
    "\n",
    "my_movies_df = my_ratings_df.join(movieTitles_df, on='MovieID')\n",
    "my_movies_df.show()"
   ]
  },
  {
   "cell_type": "code",
   "execution_count": 36,
   "id": "202dfdb7",
   "metadata": {},
   "outputs": [
    {
     "name": "stdout",
     "output_type": "stream",
     "text": [
      "+-------+------+------+\n",
      "|MovieID|UserID|Rating|\n",
      "+-------+------+------+\n",
      "|   6991|  5000|   5.0|\n",
      "|  12232|  5000|   3.0|\n",
      "|   7569|  5000|   2.5|\n",
      "|  16559|  5000|   4.0|\n",
      "|   8933|  5000|   1.8|\n",
      "|   2355|  5000|   4.6|\n",
      "|  12125|  5000|   1.0|\n",
      "|   2160|  5000|   2.0|\n",
      "|    209|  5000|   3.0|\n",
      "|  17515|  5000|   3.5|\n",
      "|   2985|  5000|   0.0|\n",
      "|     28|  5000|   5.0|\n",
      "|   1100|  5000|   3.0|\n",
      "|   4238|  5000|   4.0|\n",
      "|   7283|  5000|   2.0|\n",
      "|   6522|  5000|   1.0|\n",
      "|  15040|  5000|   3.5|\n",
      "|   3151|  5000|   4.5|\n",
      "|    218|  5000|   2.5|\n",
      "|   7016|  5000|   1.5|\n",
      "+-------+------+------+\n",
      "only showing top 20 rows\n",
      "\n"
     ]
    }
   ],
   "source": [
    "my_ratings_df.show()"
   ]
  },
  {
   "cell_type": "code",
   "execution_count": 48,
   "id": "e8fb41e3",
   "metadata": {},
   "outputs": [
    {
     "name": "stdout",
     "output_type": "stream",
     "text": [
      "+-------+------+------+\n",
      "|MovieID|UserID|Rating|\n",
      "+-------+------+------+\n",
      "|   7569|  5000|   2.5|\n",
      "|   2355|  5000|   4.6|\n",
      "|   8933|  5000|   1.8|\n",
      "|  16559|  5000|   4.0|\n",
      "|    209|  5000|   3.0|\n",
      "|   2160|  5000|   2.0|\n",
      "|  12125|  5000|   1.0|\n",
      "|   2985|  5000|   0.0|\n",
      "|  17515|  5000|   3.5|\n",
      "|   7283|  5000|   2.0|\n",
      "|   3151|  5000|   4.5|\n",
      "|   6522|  5000|   1.0|\n",
      "|   7016|  5000|   1.5|\n",
      "|  15567|  5000|   1.8|\n",
      "|      4|  5000|   5.0|\n",
      "|   4963|  5000|   3.0|\n",
      "|   9701|  5000|   2.8|\n",
      "+-------+------+------+\n",
      "\n"
     ]
    }
   ],
   "source": [
    "my_train_df.show()"
   ]
  },
  {
   "cell_type": "code",
   "execution_count": 49,
   "id": "ef318042",
   "metadata": {},
   "outputs": [
    {
     "name": "stdout",
     "output_type": "stream",
     "text": [
      "+-------+------+------+\n",
      "|MovieID|UserID|Rating|\n",
      "+-------+------+------+\n",
      "|   6991|  5000|   5.0|\n",
      "|  12232|  5000|   3.0|\n",
      "|     28|  5000|   5.0|\n",
      "|   1100|  5000|   3.0|\n",
      "|   4238|  5000|   4.0|\n",
      "|  15040|  5000|   3.5|\n",
      "|    218|  5000|   2.5|\n",
      "|      1|  5000|   4.6|\n",
      "+-------+------+------+\n",
      "\n"
     ]
    }
   ],
   "source": [
    "my_test_df.show()"
   ]
  },
  {
   "cell_type": "code",
   "execution_count": 50,
   "id": "5cf6656a",
   "metadata": {},
   "outputs": [
    {
     "name": "stdout",
     "output_type": "stream",
     "text": [
      "+-------+------+------+\n",
      "|MovieID|UserID|Rating|\n",
      "+-------+------+------+\n",
      "|   6991|  5000|   5.0|\n",
      "|  12232|  5000|   3.0|\n",
      "|   7569|  5000|   2.5|\n",
      "|  16559|  5000|   4.0|\n",
      "|   8933|  5000|   1.8|\n",
      "|   2355|  5000|   4.6|\n",
      "|  12125|  5000|   1.0|\n",
      "|   2160|  5000|   2.0|\n",
      "|    209|  5000|   3.0|\n",
      "|  17515|  5000|   3.5|\n",
      "|   2985|  5000|   0.0|\n",
      "|     28|  5000|   5.0|\n",
      "|   1100|  5000|   3.0|\n",
      "|   4238|  5000|   4.0|\n",
      "|   7283|  5000|   2.0|\n",
      "|   6522|  5000|   1.0|\n",
      "|  15040|  5000|   3.5|\n",
      "|   3151|  5000|   4.5|\n",
      "|    218|  5000|   2.5|\n",
      "|   7016|  5000|   1.5|\n",
      "+-------+------+------+\n",
      "only showing top 20 rows\n",
      "\n"
     ]
    }
   ],
   "source": [
    "# union the above created dataframes\n",
    "my_train_df = my_ratings_df.union(trainingRatings_df)\n",
    "# display\n",
    "my_train_df.show(20)"
   ]
  },
  {
   "cell_type": "code",
   "execution_count": 39,
   "id": "5e612d4a",
   "metadata": {},
   "outputs": [],
   "source": [
    "my_als = ALS(\n",
    "         rank=20, maxIter=10, regParam=0.05, \n",
    "         userCol=\"UserID\", \n",
    "         itemCol=\"MovieID\",\n",
    "         ratingCol=\"Rating\", \n",
    "         nonnegative = True, \n",
    "         implicitPrefs = False,\n",
    "         coldStartStrategy=\"drop\"\n",
    ")"
   ]
  },
  {
   "cell_type": "code",
   "execution_count": 51,
   "id": "d87c8e50",
   "metadata": {},
   "outputs": [
    {
     "name": "stderr",
     "output_type": "stream",
     "text": [
      "                                                                                \r"
     ]
    }
   ],
   "source": [
    "# Create the model with my parameters.\n",
    "my_als_model = my_als.fit(my_train_df)"
   ]
  },
  {
   "cell_type": "code",
   "execution_count": 52,
   "id": "e81844ba",
   "metadata": {},
   "outputs": [
    {
     "name": "stdout",
     "output_type": "stream",
     "text": [
      "RMS error on the new data :  0.841859705031669\n"
     ]
    }
   ],
   "source": [
    "my_test_predictions = my_als_model.transform(my_test_df)\n",
    "my_rmse_error = rmse_evaluator.evaluate(my_test_predictions)\n",
    "print(\"RMS error on the new data : \", my_rmse_error)"
   ]
  },
  {
   "cell_type": "code",
   "execution_count": 53,
   "id": "f5b67812",
   "metadata": {},
   "outputs": [
    {
     "name": "stdout",
     "output_type": "stream",
     "text": [
      "My Predicted Ratings : \n",
      "\n",
      "+-------+------+------+----------+\n",
      "|MovieID|UserID|Rating|prediction|\n",
      "+-------+------+------+----------+\n",
      "|   6991|  5000|   5.0|  5.012259|\n",
      "|  12232|  5000|   3.0| 2.9726129|\n",
      "|     28|  5000|   5.0| 2.8954036|\n",
      "|   1100|  5000|   3.0| 2.1100981|\n",
      "|   4238|  5000|   4.0|  3.812706|\n",
      "|  15040|  5000|   3.5| 2.8930554|\n",
      "|    218|  5000|   2.5| 2.7054677|\n",
      "|      1|  5000|   4.6| 4.5553594|\n",
      "+-------+------+------+----------+\n",
      "\n"
     ]
    }
   ],
   "source": [
    "print(\"My Predicted Ratings : \\n\")  \n",
    "my_test_predictions.show()"
   ]
  },
  {
   "cell_type": "code",
   "execution_count": 54,
   "id": "cf192cf1",
   "metadata": {},
   "outputs": [
    {
     "name": "stderr",
     "output_type": "stream",
     "text": [
      "                                                                                \r"
     ]
    },
    {
     "name": "stdout",
     "output_type": "stream",
     "text": [
      "+-------+------+---------+--------------------+\n",
      "|MovieID|UserID|   Rating|               Title|\n",
      "+-------+------+---------+--------------------+\n",
      "|   6991|  5000| 5.012259|    A History of God|\n",
      "|      4|  5000|4.9514775|Paula Abdul's Get...|\n",
      "|   2756|  5000| 4.798466|         Tenchi Muyo|\n",
      "|   4918|  5000|4.6848273|Slayers Try DVD C...|\n",
      "|   8919|  5000| 4.660586|   Cardcaptor Sakura|\n",
      "|   6619|  5000| 4.568393|Slayers Next DVD ...|\n",
      "|  10777|  5000| 4.393004|Battle Athletes V...|\n",
      "|   5484|  5000|4.2430744|Har dil jo Pyar k...|\n",
      "|   6629|  5000| 4.231745|Legend of the Dra...|\n",
      "+-------+------+---------+--------------------+\n",
      "\n"
     ]
    }
   ],
   "source": [
    "# Generate n Recommendations for all users n = 10\n",
    "my_recommendations = my_als_model.recommendForAllUsers(10)\n",
    "my_recommendations = my_recommendations\\\n",
    "    .withColumn(\"rec_exp\", explode(\"recommendations\"))\\\n",
    "    .select('UserID', col(\"rec_exp.MovieID\"), col(\"rec_exp.Rating\"))\n",
    "my_rec_df = my_recommendations.join(movieTitles_df, on='MovieID')\n",
    "my_rec_df.filter('UserId = '+str(my_user_id)).sort('Rating', ascending=False).limit(10).show()"
   ]
  },
  {
   "cell_type": "code",
   "execution_count": null,
   "id": "2808b00e",
   "metadata": {},
   "outputs": [],
   "source": []
  }
 ],
 "metadata": {
  "kernelspec": {
   "display_name": "Python 3 (ipykernel)",
   "language": "python",
   "name": "python3"
  },
  "language_info": {
   "codemirror_mode": {
    "name": "ipython",
    "version": 3
   },
   "file_extension": ".py",
   "mimetype": "text/x-python",
   "name": "python",
   "nbconvert_exporter": "python",
   "pygments_lexer": "ipython3",
   "version": "3.8.10"
  }
 },
 "nbformat": 4,
 "nbformat_minor": 5
}
